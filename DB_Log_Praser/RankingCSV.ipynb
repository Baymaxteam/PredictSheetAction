{
 "cells": [
  {
   "cell_type": "code",
   "execution_count": 166,
   "metadata": {
    "collapsed": true
   },
   "outputs": [],
   "source": [
    "import pandas as pd\n",
    "import numpy as np\n",
    "import time\n",
    "from datetime import datetime\n",
    "import sys\n",
    "import csv\n",
    "import os\n",
    "from operator import itemgetter, attrgetter\n",
    "import math"
   ]
  },
  {
   "cell_type": "markdown",
   "metadata": {},
   "source": [
    "# PRASE DATA"
   ]
  },
  {
   "cell_type": "code",
   "execution_count": 223,
   "metadata": {
    "collapsed": false
   },
   "outputs": [],
   "source": [
    "df = pd.read_csv('out.csv', skiprows=1 ,names=['username', 'query_date', 'report_name', 'doc', 'start_date', 'end_date', 'is_period'])\n",
    "# df = pd.read_csv('out.csv')\n",
    "weekdaydf = []\n",
    "daydf = []\n",
    "monthdf = []\n",
    "yeardf = []\n",
    "\n",
    "start_weekdaydf = []\n",
    "start_monthdf = []\n",
    "start_yeardf = []\n",
    "start_daydf = []\n",
    "end_weekdaydf = []\n",
    "end_monthdf = []\n",
    "end_yeardf = []\n",
    "end_daydf = []\n",
    "\n",
    "try:\n",
    "    for i in range(len(df['query_date'])):\n",
    "        date_obj = datetime.strptime(df['query_date'][i], '%Y-%m-%d')\n",
    "        weekdaydf.append(int(date_obj.weekday() + 1) )\n",
    "        daydf.append(int(date_obj.day))\n",
    "        monthdf.append(int(date_obj.month))\n",
    "        yeardf.append(int(date_obj.year))\n",
    "        \n",
    "    df.loc[:,'query_date_year'] = yeardf\n",
    "    df.loc[:,'query_date_month'] = monthdf\n",
    "    df.loc[:,'query_date_day'] = daydf\n",
    "    df.loc[:,'query_date_weekday'] = weekdaydf\n",
    "    \n",
    "    nulldetection = df['start_date'].isnull().values\n",
    "    for i in range(len(df['start_date'])):\n",
    "#         print(df['start_date'][i])\n",
    "    \n",
    "        if not nulldetection[i]:\n",
    "            date_obj = datetime.strptime(df['start_date'][i], '%Y-%m-%d')\n",
    "            start_weekdaydf.append(int(date_obj.weekday() + 1) )\n",
    "            start_daydf.append(int(date_obj.day))\n",
    "            start_monthdf.append(int(date_obj.month))\n",
    "            start_yeardf.append(int(date_obj.year))\n",
    "        else:\n",
    "            start_weekdaydf.append(0)\n",
    "            start_monthdf.append(0)\n",
    "            start_yeardf.append(0)\n",
    "            start_daydf.append(0)\n",
    "          \n",
    "    df.loc[:,'doc_start_date_year'] = start_yeardf\n",
    "    df.loc[:,'doc_start_date_month'] = start_monthdf\n",
    "    df.loc[:,'doc_start_date_day'] = start_daydf\n",
    "    df.loc[:,'doc_start_date_weekday'] = start_weekdaydf\n",
    "    \n",
    "    nulldetection = df['end_date'].isnull().values\n",
    "    for i in range(len(df['end_date'])):\n",
    "\n",
    "        if not nulldetection[i] and df['end_date'][i] != '9999-12-31':\n",
    "            date_obj = datetime.strptime(df['end_date'][i], '%Y-%m-%d')\n",
    "            end_weekdaydf.append(int(date_obj.weekday() + 1) )\n",
    "            end_daydf.append(int(date_obj.day))\n",
    "            end_monthdf.append(int(date_obj.month))\n",
    "            end_yeardf.append(int(date_obj.year))\n",
    "        else:\n",
    "            end_weekdaydf.append(0)\n",
    "            end_monthdf.append(0)\n",
    "            end_yeardf.append(0)\n",
    "            end_daydf.append(0)\n",
    "\n",
    "    df.loc[:,'doc_end_date_year'] = end_yeardf\n",
    "    df.loc[:,'doc_end_date_month'] = end_monthdf\n",
    "    df.loc[:,'doc_end_date_day'] = end_daydf\n",
    "    df.loc[:,'doc_end_date_weekday'] = end_weekdaydf\n",
    "except:\n",
    "    print(\"Unexpected error:\", sys.exc_info())\n",
    "\n",
    "df.to_csv('prase_out.csv')"
   ]
  },
  {
   "cell_type": "code",
   "execution_count": 225,
   "metadata": {
    "collapsed": false
   },
   "outputs": [
    {
     "data": {
      "text/html": [
       "<div>\n",
       "<table border=\"1\" class=\"dataframe\">\n",
       "  <thead>\n",
       "    <tr style=\"text-align: right;\">\n",
       "      <th></th>\n",
       "      <th>username</th>\n",
       "      <th>query_date</th>\n",
       "      <th>report_name</th>\n",
       "      <th>doc</th>\n",
       "      <th>start_date</th>\n",
       "      <th>end_date</th>\n",
       "      <th>is_period</th>\n",
       "      <th>query_date_year</th>\n",
       "      <th>query_date_month</th>\n",
       "      <th>query_date_day</th>\n",
       "      <th>query_date_weekday</th>\n",
       "      <th>doc_start_date_year</th>\n",
       "      <th>doc_start_date_month</th>\n",
       "      <th>doc_start_date_day</th>\n",
       "      <th>doc_start_date_weekday</th>\n",
       "      <th>doc_end_date_year</th>\n",
       "      <th>doc_end_date_month</th>\n",
       "      <th>doc_end_date_day</th>\n",
       "      <th>doc_end_date_weekday</th>\n",
       "    </tr>\n",
       "  </thead>\n",
       "  <tbody>\n",
       "    <tr>\n",
       "      <th>0</th>\n",
       "      <td>001713</td>\n",
       "      <td>2017-02-10</td>\n",
       "      <td>001713</td>\n",
       "      <td>ODS_UNB_0460</td>\n",
       "      <td>2016-08-31</td>\n",
       "      <td>2016-08-31</td>\n",
       "      <td>True</td>\n",
       "      <td>2017</td>\n",
       "      <td>2</td>\n",
       "      <td>10</td>\n",
       "      <td>5</td>\n",
       "      <td>2016</td>\n",
       "      <td>8</td>\n",
       "      <td>31</td>\n",
       "      <td>3</td>\n",
       "      <td>2016</td>\n",
       "      <td>8</td>\n",
       "      <td>31</td>\n",
       "      <td>3</td>\n",
       "    </tr>\n",
       "    <tr>\n",
       "      <th>1</th>\n",
       "      <td>calvin</td>\n",
       "      <td>2017-02-10</td>\n",
       "      <td>calvin</td>\n",
       "      <td>ODS_PA_0500_P</td>\n",
       "      <td>2016-11-30</td>\n",
       "      <td>2016-11-30</td>\n",
       "      <td>True</td>\n",
       "      <td>2017</td>\n",
       "      <td>2</td>\n",
       "      <td>10</td>\n",
       "      <td>5</td>\n",
       "      <td>2016</td>\n",
       "      <td>11</td>\n",
       "      <td>30</td>\n",
       "      <td>3</td>\n",
       "      <td>2016</td>\n",
       "      <td>11</td>\n",
       "      <td>30</td>\n",
       "      <td>3</td>\n",
       "    </tr>\n",
       "    <tr>\n",
       "      <th>2</th>\n",
       "      <td>calvin</td>\n",
       "      <td>2017-02-10</td>\n",
       "      <td>calvin</td>\n",
       "      <td>ODS_FIN_0573</td>\n",
       "      <td>NaN</td>\n",
       "      <td>9999-12-31</td>\n",
       "      <td>True</td>\n",
       "      <td>2017</td>\n",
       "      <td>2</td>\n",
       "      <td>10</td>\n",
       "      <td>5</td>\n",
       "      <td>0</td>\n",
       "      <td>0</td>\n",
       "      <td>0</td>\n",
       "      <td>0</td>\n",
       "      <td>0</td>\n",
       "      <td>0</td>\n",
       "      <td>0</td>\n",
       "      <td>0</td>\n",
       "    </tr>\n",
       "    <tr>\n",
       "      <th>3</th>\n",
       "      <td>user1</td>\n",
       "      <td>2017-02-10</td>\n",
       "      <td>user1</td>\n",
       "      <td>ODS_POS_0990</td>\n",
       "      <td>NaN</td>\n",
       "      <td>9999-12-31</td>\n",
       "      <td>True</td>\n",
       "      <td>2017</td>\n",
       "      <td>2</td>\n",
       "      <td>10</td>\n",
       "      <td>5</td>\n",
       "      <td>0</td>\n",
       "      <td>0</td>\n",
       "      <td>0</td>\n",
       "      <td>0</td>\n",
       "      <td>0</td>\n",
       "      <td>0</td>\n",
       "      <td>0</td>\n",
       "      <td>0</td>\n",
       "    </tr>\n",
       "    <tr>\n",
       "      <th>4</th>\n",
       "      <td>user1</td>\n",
       "      <td>2017-02-10</td>\n",
       "      <td>user1</td>\n",
       "      <td>ODS_POS_0990</td>\n",
       "      <td>NaN</td>\n",
       "      <td>9999-12-31</td>\n",
       "      <td>True</td>\n",
       "      <td>2017</td>\n",
       "      <td>2</td>\n",
       "      <td>10</td>\n",
       "      <td>5</td>\n",
       "      <td>0</td>\n",
       "      <td>0</td>\n",
       "      <td>0</td>\n",
       "      <td>0</td>\n",
       "      <td>0</td>\n",
       "      <td>0</td>\n",
       "      <td>0</td>\n",
       "      <td>0</td>\n",
       "    </tr>\n",
       "  </tbody>\n",
       "</table>\n",
       "</div>"
      ],
      "text/plain": [
       "  username  query_date report_name            doc  start_date    end_date  \\\n",
       "0   001713  2017-02-10      001713   ODS_UNB_0460  2016-08-31  2016-08-31   \n",
       "1   calvin  2017-02-10      calvin  ODS_PA_0500_P  2016-11-30  2016-11-30   \n",
       "2   calvin  2017-02-10      calvin   ODS_FIN_0573         NaN  9999-12-31   \n",
       "3    user1  2017-02-10       user1   ODS_POS_0990         NaN  9999-12-31   \n",
       "4    user1  2017-02-10       user1   ODS_POS_0990         NaN  9999-12-31   \n",
       "\n",
       "  is_period  query_date_year  query_date_month  query_date_day  \\\n",
       "0      True             2017                 2              10   \n",
       "1      True             2017                 2              10   \n",
       "2      True             2017                 2              10   \n",
       "3      True             2017                 2              10   \n",
       "4      True             2017                 2              10   \n",
       "\n",
       "   query_date_weekday  doc_start_date_year  doc_start_date_month  \\\n",
       "0                   5                 2016                     8   \n",
       "1                   5                 2016                    11   \n",
       "2                   5                    0                     0   \n",
       "3                   5                    0                     0   \n",
       "4                   5                    0                     0   \n",
       "\n",
       "   doc_start_date_day  doc_start_date_weekday  doc_end_date_year  \\\n",
       "0                  31                       3               2016   \n",
       "1                  30                       3               2016   \n",
       "2                   0                       0                  0   \n",
       "3                   0                       0                  0   \n",
       "4                   0                       0                  0   \n",
       "\n",
       "   doc_end_date_month  doc_end_date_day  doc_end_date_weekday  \n",
       "0                   8                31                     3  \n",
       "1                  11                30                     3  \n",
       "2                   0                 0                     0  \n",
       "3                   0                 0                     0  \n",
       "4                   0                 0                     0  "
      ]
     },
     "execution_count": 225,
     "metadata": {},
     "output_type": "execute_result"
    }
   ],
   "source": [
    "df.head()"
   ]
  },
  {
   "cell_type": "code",
   "execution_count": 226,
   "metadata": {
    "collapsed": false
   },
   "outputs": [
    {
     "data": {
      "text/plain": [
       "(32323, 19)"
      ]
     },
     "execution_count": 226,
     "metadata": {},
     "output_type": "execute_result"
    }
   ],
   "source": [
    "df.shape"
   ]
  },
  {
   "cell_type": "code",
   "execution_count": 227,
   "metadata": {
    "collapsed": true
   },
   "outputs": [],
   "source": [
    "# for total data\n",
    "cwd = os.getcwd()\n",
    "TotalFolderpath = '/Total_statistic/'\n",
    "folderName = cwd + TotalFolderpath\n",
    "\n",
    "if not os.path.exists(folderName):\n",
    "    os.makedirs(folderName)\n",
    "\n",
    "user = df['username'].value_counts(0)\n",
    "doc = df['doc'].value_counts(0)\n",
    "user_query_date = df['query_date'].value_counts(0)\n",
    "\n",
    "user.to_csv(folderName + 'user_statistic.csv')\n",
    "doc.to_csv(folderName + 'doc_statistic.csv')\n",
    "user_query_date.to_csv(folderName + 'query_date_statistic.csv')"
   ]
  },
  {
   "cell_type": "code",
   "execution_count": 228,
   "metadata": {
    "collapsed": false
   },
   "outputs": [
    {
     "name": "stdout",
     "output_type": "stream",
     "text": [
      "Active users : 101\n",
      "Active docs  : 613\n"
     ]
    }
   ],
   "source": [
    "# for different type data\n",
    "each_user = user.axes[0]\n",
    "each_doc = doc.axes[0]\n",
    "\n",
    "print(\"Active users :\", len(each_user))\n",
    "print(\"Active docs  :\", len(each_doc))"
   ]
  },
  {
   "cell_type": "code",
   "execution_count": 229,
   "metadata": {
    "collapsed": true
   },
   "outputs": [],
   "source": [
    "def check_file_path_exist(csvName):\n",
    "    if not os.path.exists(os.path.dirname(csvName)):\n",
    "        try:\n",
    "            os.makedirs(os.path.dirname(csvName))\n",
    "        except OSError as exc: # Guard against race condition\n",
    "            if exc.errno != errno.EEXIST:\n",
    "                raise"
   ]
  },
  {
   "cell_type": "code",
   "execution_count": 230,
   "metadata": {
    "collapsed": false
   },
   "outputs": [
    {
     "name": "stdout",
     "output_type": "stream",
     "text": [
      "Processing: 0.00%\n",
      "Processing: 9.90%\n",
      "Processing: 19.80%\n",
      "Processing: 29.70%\n",
      "Processing: 39.60%\n",
      "Processing: 49.50%\n",
      "Processing: 59.41%\n",
      "Processing: 69.31%\n",
      "Processing: 79.21%\n",
      "Processing: 89.11%\n",
      "Processing: 99.01%\n"
     ]
    }
   ],
   "source": [
    "# for user type\n",
    "cwd = os.getcwd()\n",
    "UserFolderpath = '/User_statistic/'\n",
    "UserClinkFolderpath = '/UserClick_statistic/'\n",
    "\n",
    "csvFinalName = '_statistic.csv'\n",
    "UserQueryCSV = 'UserQueryData_statistic.csv'\n",
    "UserClinkCSV = 'UserClickDoc_statistic.csv'\n",
    "UserEachDayQueryCSV = 'QueryDoc_statistic.csv'\n",
    "UserEachDayQueryAllCSV = 'QueryDocAll_statistic.csv'\n",
    "\n",
    "user_Doc_StaticResult = [];\n",
    "\n",
    "for idx, user_i in enumerate(each_user):\n",
    "    if(idx%10==0):\n",
    "        print(\"Processing: {0:.2f}%\".format(idx*100/len(each_user)))\n",
    "    try:\n",
    "        csvName = cwd + UserFolderpath + str(user_i) + csvFinalName\n",
    "        check_file_path_exist(csvName)\n",
    "        userDF = df.loc[df['username'] == user_i]\n",
    "        userDF.to_csv(csvName)\n",
    "\n",
    "        # prase for each user : click doc counter for all time\n",
    "        csvClickDocName = cwd + UserFolderpath + str(user_i)  + '/' + UserClinkCSV\n",
    "        check_file_path_exist(csvClickDocName)\n",
    "        userDF_Doc_counter = userDF['doc'].value_counts(0)\n",
    "        userDF_Doc_counter.to_csv(csvClickDocName)\n",
    "\n",
    "        # prase for each user : click doc counter for each day\n",
    "        csvQueryDate = cwd + UserFolderpath + str(user_i) + '/' + UserQueryCSV\n",
    "        check_file_path_exist(csvQueryDate)\n",
    "        userDF_each_date = userDF['query_date'].value_counts(0)\n",
    "        userDF_each_date.to_csv(csvQueryDate)\n",
    "\n",
    "        # prase for each user : click each doc counter for each day\n",
    "\n",
    "    #     user_each_data = userDF_each_date.axes[0]\n",
    "    #     for user_each_data_i in user_each_data:\n",
    "    #         # save all query data in each date\n",
    "    #         userDF_each_data_doc = userDF.loc[userDF['query_date'] == user_each_data_i]\n",
    "    #         csvEachDayQueryAllDoc = cwd + UserFolderpath + str(user_i) + '/' + str(user_each_data_i) + '/' + UserEachDayQueryAllCSV\n",
    "    #         check_file_path_exist(csvEachDayQueryAllDoc)\n",
    "    #         userDF_each_data_doc.to_csv(csvEachDayQueryAllDoc)\n",
    "    #         print(userDF_each_data_doc)\n",
    "\n",
    "    #         # save query doc data couter in each date\n",
    "    #         user_each_data_doc_query = userDF_each_data_doc['doc'].value_counts(0)\n",
    "    #         csvEachDayQueryDoc = cwd + UserFolderpath + str(user_i) + '/' + str(user_each_data_i) + '/' + UserEachDayQueryCSV\n",
    "    #         check_file_path_exist(csvEachDayQueryDoc)\n",
    "    #         user_each_data_doc_query.to_csv(csvEachDayQueryDoc)\n",
    "\n",
    "       \n",
    "        \n",
    "        user_each_doc = userDF_Doc_counter.axes[0]\n",
    "        for user_each_doc_i in user_each_doc:\n",
    "            # save all query data in each date\n",
    "            userDF_each_data_doc = userDF.loc[userDF['doc'] == user_each_doc_i]\n",
    "            csvEachDayQueryAllDoc = cwd + UserFolderpath + str(user_i) + '/' + str(user_each_doc_i) + '/' + UserEachDayQueryAllCSV\n",
    "            check_file_path_exist(csvEachDayQueryAllDoc)\n",
    "            userDF_each_data_doc.to_csv(csvEachDayQueryAllDoc)\n",
    "#             print(userDF_each_data_doc)\n",
    "\n",
    "            # save query doc data couter in each date\n",
    "            user_each_data_doc_query = userDF_each_data_doc['query_date'].value_counts(0)\n",
    "            csvEachDayQueryDoc = cwd + UserFolderpath + str(user_i) + '/' + str(user_each_doc_i) + '/' + UserEachDayQueryCSV\n",
    "            check_file_path_exist(csvEachDayQueryDoc)\n",
    "            user_each_data_doc_query.to_csv(csvEachDayQueryDoc)\n",
    "            \n",
    "        user_Doc_StaticResult.append([str(user_i),len(user_each_doc)])\n",
    "        \n",
    "    except:\n",
    "        print(\"Unexpected error:\", sys.exc_info())\n",
    "\n",
    "        "
   ]
  },
  {
   "cell_type": "code",
   "execution_count": 231,
   "metadata": {
    "collapsed": false
   },
   "outputs": [
    {
     "name": "stdout",
     "output_type": "stream",
     "text": [
      "statistic result :  [['mPOS', 195], ['user1', 135], ['000358', 126], ['yusiang', 124], ['user2', 97], ['user4', 94], ['user18', 90], ['user10', 84], ['user19', 83], ['user3', 82], ['ricky', 78], ['roxana', 77], ['calvin', 75], ['shiang', 73], ['user5', 71], ['002064', 66], ['user15', 57], ['000368', 51], ['000898', 47], ['user8', 44], ['user14', 40], ['CSIS', 36], ['000442', 35], ['000232', 34], ['CSIS-SIT3', 33], ['jesse', 31], ['000868', 30], ['001415', 28], ['001231', 28], ['000718', 26], ['000923', 24], ['weiting', 23], ['000768', 22], ['001867', 20], ['CSIS-R5', 20], ['user7', 19], ['jimmy', 17], ['001713', 16], ['000791', 16], ['000279', 14], ['dennis', 14], ['jessie', 14], ['001751', 14], ['user9', 13], ['000316', 12], ['002266', 12], ['esp.admin', 12], ['001980', 12], ['000761', 11], ['user6', 10], ['000802', 10], ['000124', 9], ['000443', 9], ['001698', 9], ['000217', 9], ['user11', 8], ['000219', 8], ['user13', 8], ['000759', 8], ['001340', 8], ['001993', 8], ['user12', 7], ['002178', 7], ['user20', 7], ['invdaphne', 7], ['001076', 6], ['001308', 6], ['001039', 6], ['janus', 6], ['allencha', 6], ['000598', 5], ['001332', 5], ['001383', 5], ['001883', 5], ['001689', 4], ['001414', 4], ['user16', 4], ['001416', 4], ['test', 4], ['LIFE', 4], ['000551', 4], ['000323', 4], ['NBJENIA', 3], ['000270', 3], ['Cheng', 3], ['001726', 3], ['001101', 3], ['001129', 2], ['000166', 2], ['AGYYEE', 2], ['001420', 2], ['user17', 2], ['001735', 2], ['yenchin', 2], ['000622', 1], ['CFtestUser', 1], ['001158', 1], ['000257', 1], ['EVOICE', 1], ['000606', 1], ['001336', 1]]\n"
     ]
    }
   ],
   "source": [
    "user_Doc_SortStaticResult = sorted(user_Doc_StaticResult, key=itemgetter(1),reverse=True)\n",
    "print(\"statistic result : \", user_Doc_SortStaticResult[:])\n",
    "\n",
    "# click doc type rate < 20 , show all doc\n",
    "# click doc type rate > 20 , predic possible option"
   ]
  },
  {
   "cell_type": "code",
   "execution_count": 232,
   "metadata": {
    "collapsed": true
   },
   "outputs": [],
   "source": [
    "# for doc type\n",
    "DocFolderpath = '/Doc_statistic/'\n",
    "DocClickFolderpath = '/DocClick_statistic/'\n",
    "\n",
    "for doc_i in each_doc:\n",
    "    \n",
    "    csvName = cwd + DocFolderpath + str(doc_i) + csvFinalName\n",
    "    csvClickName = cwd + DocClickFolderpath + str(doc_i) + csvFinalName\n",
    "    check_file_path_exist(csvName)\n",
    "    check_file_path_exist(csvClickName)\n",
    "    \n",
    "    docDF = df.loc[df['doc'] == doc_i]\n",
    "#     print(doc_i)\n",
    "    docDF_counter = docDF['username'].value_counts(0)\n",
    "#     print(doc_i)\n",
    "    docDF.to_csv(csvName)\n",
    "    docDF_counter.to_csv(csvClickName)"
   ]
  },
  {
   "cell_type": "code",
   "execution_count": null,
   "metadata": {
    "collapsed": true
   },
   "outputs": [],
   "source": []
  },
  {
   "cell_type": "code",
   "execution_count": null,
   "metadata": {
    "collapsed": true
   },
   "outputs": [],
   "source": []
  }
 ],
 "metadata": {
  "kernelspec": {
   "display_name": "Python 3",
   "language": "python",
   "name": "python3"
  },
  "language_info": {
   "codemirror_mode": {
    "name": "ipython",
    "version": 3
   },
   "file_extension": ".py",
   "mimetype": "text/x-python",
   "name": "python",
   "nbconvert_exporter": "python",
   "pygments_lexer": "ipython3",
   "version": "3.6.1"
  }
 },
 "nbformat": 4,
 "nbformat_minor": 2
}
