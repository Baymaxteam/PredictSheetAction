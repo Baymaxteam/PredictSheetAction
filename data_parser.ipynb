{
 "cells": [
  {
   "cell_type": "markdown",
   "metadata": {},
   "source": [
    "# DataPaser"
   ]
  },
  {
   "cell_type": "code",
   "execution_count": 1,
   "metadata": {
    "collapsed": true
   },
   "outputs": [],
   "source": [
    "import pandas as pd\n",
    "import numpy as np\n",
    "import time\n",
    "from datetime import datetime\n",
    "import sys"
   ]
  },
  {
   "cell_type": "code",
   "execution_count": 2,
   "metadata": {},
   "outputs": [
    {
     "data": {
      "text/plain": [
       "0"
      ]
     },
     "execution_count": 2,
     "metadata": {},
     "output_type": "execute_result"
    }
   ],
   "source": [
    "f = open(\"dataset.csv\", \"r\", errors='ignore')\n",
    "f.seek(0, 2)\n",
    "end_position = f.tell()\n",
    "f.seek(0, 0)"
   ]
  },
  {
   "cell_type": "code",
   "execution_count": 3,
   "metadata": {
    "collapsed": true
   },
   "outputs": [],
   "source": [
    "a=f.readline()"
   ]
  },
  {
   "cell_type": "code",
   "execution_count": 4,
   "metadata": {
    "collapsed": true
   },
   "outputs": [],
   "source": [
    "header = [x for x in  a.replace('\"', \"\").replace('\\n', \"\").split(\",\") if len(x)>0]\n",
    "df = pd.DataFrame(columns = ('username', 'query_date', 'report_name', 'doc', 'start_date', 'end_date', 'is_period'))\n",
    "lines = f.readlines()"
   ]
  },
  {
   "cell_type": "code",
   "execution_count": 5,
   "metadata": {
    "scrolled": true
   },
   "outputs": [
    {
     "name": "stdout",
     "output_type": "stream",
     "text": [
      "Processing: 0.00%\n",
      "Processing: 1.01%\n",
      "Processing: 2.02%\n",
      "Processing: 3.03%\n",
      "Processing: 4.03%\n",
      "Processing: 5.04%\n",
      "Processing: 6.05%\n",
      "Processing: 7.06%\n",
      "Processing: 8.07%\n",
      "Unexpected error: (<class 'AssertionError'>, AssertionError('doc list length error',), <traceback object at 0x10896be88>)\n",
      "['10.67.155.140', 'esp.admin', '22-2_ -17', 'queryWithIndex', 'esp.admin', 'startDate', 'null', 'endDate', 'Dec 31 9999 120000 AM', 'conditionList', 'logicalOperator', 'nullnull150]', '2006', '_____IP  10.67.155.140 _']\n",
      "\"10.67.155.140,\"\"esp.admin\"\",22-2_ -17,\"\"queryWithIndex\"\",\"\"[\"\"\"\"esp.admin\"\"\"\",[\"\"\"\"\"\"\"\"],{\"\"\"\"startDate\"\"\"\":null,\"\"\"\"endDate\"\"\"\":\"\"\"\"Dec 31, 9999 12:00:00 AM\"\"\"\"},\"\"\"\"Y\"\"\"\",{\"\"\"\"conditionList\"\"\"\":[],\"\"\"\"logicalOperator\"\"\"\":null},null,1,50]\"\",\"\"2006\"\",\"\"_____IP : 10.67.155.140 _\"\",0\",\n",
      "\n",
      "Unexpected error: (<class 'AssertionError'>, AssertionError('doc list length error',), <traceback object at 0x10896bac8>)\n",
      "['10.67.155.140', 'esp.admin', '22-2_ -17', 'queryWithIndex', 'esp.admin', 'startDate', 'null', 'endDate', 'Dec 31 9999 120000 AM', 'conditionList', 'logicalOperator', 'nullnull150]', '2006', '_____IP  10.67.155.140 _']\n",
      "\"10.67.155.140,\"\"esp.admin\"\",22-2_ -17,\"\"queryWithIndex\"\",\"\"[\"\"\"\"esp.admin\"\"\"\",[\"\"\"\"123\"\"\"\"],{\"\"\"\"startDate\"\"\"\":null,\"\"\"\"endDate\"\"\"\":\"\"\"\"Dec 31, 9999 12:00:00 AM\"\"\"\"},\"\"\"\"Y\"\"\"\",{\"\"\"\"conditionList\"\"\"\":[],\"\"\"\"logicalOperator\"\"\"\":null},null,1,50]\"\",\"\"2006\"\",\"\"_____IP : 10.67.155.140 _\"\",0\",\n",
      "\n",
      "Unexpected error: (<class 'AssertionError'>, AssertionError('doc list length error',), <traceback object at 0x108937208>)\n",
      "['10.67.67.78', 'yusiang', '21-2_ -17', 'queryWithIndex', 'yusiang', 'startDate', 'null', 'endDate', 'Dec 31 9999 120000 AM', 'conditionList', 'logicalOperator', 'nullnull150]', '3001', '_____table']\n",
      "\"10.67.67.78,\"\"yusiang\"\",21-2_ -17,\"\"queryWithIndex\"\",\"\"[\"\"\"\"yusiang\"\"\"\",[\"\"\"\"\"\"\"\"],{\"\"\"\"startDate\"\"\"\":null,\"\"\"\"endDate\"\"\"\":\"\"\"\"Dec 31, 9999 12:00:00 AM\"\"\"\"},\"\"\"\"Y\"\"\"\",{\"\"\"\"conditionList\"\"\"\":[],\"\"\"\"logicalOperator\"\"\"\":null},null,1,50]\"\",\"\"3001\"\",\"\"_____table\"\",0\",\n",
      "\n",
      "Processing: 9.08%\n",
      "Processing: 10.09%\n",
      "Processing: 11.10%\n",
      "Processing: 12.10%\n",
      "Processing: 13.11%\n",
      "Processing: 14.12%\n",
      "Processing: 15.13%\n",
      "Processing: 16.14%\n",
      "Processing: 17.15%\n",
      "Processing: 18.16%\n",
      "Processing: 19.17%\n",
      "Processing: 20.17%\n",
      "Processing: 21.18%\n",
      "Processing: 22.19%\n",
      "Processing: 23.20%\n",
      "Processing: 24.21%\n",
      "Processing: 25.22%\n",
      "Processing: 26.23%\n",
      "Processing: 27.23%\n",
      "Processing: 28.24%\n",
      "Processing: 29.25%\n",
      "Processing: 30.26%\n",
      "Unexpected error: (<class 'AssertionError'>, AssertionError('doc list length error',), <traceback object at 0x105b32888>)\n",
      "['10.67.67.78', 'yusiang', '21-2_ -17', 'queryWithIndex', 'yusiang', 'startDate', 'null', 'endDate', 'Dec 31 9999 120000 AM', 'conditionList', 'logicalOperator', 'nullnull150]']\n",
      "\"10.67.67.78,\"\"yusiang\"\",21-2_ -17,\"\"queryWithIndex\"\",\"\"[\"\"\"\"yusiang\"\"\"\",[\"\"\"\"\"\"\"\"],{\"\"\"\"startDate\"\"\"\":null,\"\"\"\"endDate\"\"\"\":\"\"\"\"Dec 31, 9999 12:00:00 AM\"\"\"\"},\"\"\"\"Y\"\"\"\",{\"\"\"\"conditionList\"\"\"\":[],\"\"\"\"logicalOperator\"\"\"\":null},null,1,50]\"\",\"\"\"\",\"\"\"\",0\",\n",
      "\n",
      "Processing: 31.27%\n",
      "Processing: 32.28%\n",
      "Unexpected error: (<class 'AssertionError'>, AssertionError('doc list length error',), <traceback object at 0x108b37408>)\n",
      "['10.67.67.78', 'yusiang', '21-2_ -17', 'queryWithIndex', 'yusiang', 'startDate', 'null', 'endDate', 'Dec 31 9999 120000 AM', 'conditionList', 'logicalOperator', 'nullnull150]', '3001', '_____table']\n",
      "\"10.67.67.78,\"\"yusiang\"\",21-2_ -17,\"\"queryWithIndex\"\",\"\"[\"\"\"\"yusiang\"\"\"\",[\"\"\"\"\"\"\"\"],{\"\"\"\"startDate\"\"\"\":null,\"\"\"\"endDate\"\"\"\":\"\"\"\"Dec 31, 9999 12:00:00 AM\"\"\"\"},\"\"\"\"Y\"\"\"\",{\"\"\"\"conditionList\"\"\"\":[],\"\"\"\"logicalOperator\"\"\"\":null},null,1,50]\"\",\"\"3001\"\",\"\"_____table\"\",0\",\n",
      "\n",
      "Unexpected error: (<class 'AssertionError'>, AssertionError('doc list length error',), <traceback object at 0x108b42808>)\n",
      "['10.67.67.78', 'yusiang', '21-2_ -17', 'queryWithIndex', 'yusiang', 'startDate', 'null', 'endDate', 'Dec 31 9999 120000 AM', 'conditionList', 'logicalOperator', 'nullnull150]', '3001', '_____table']\n",
      "\"10.67.67.78,\"\"yusiang\"\",21-2_ -17,\"\"queryWithIndex\"\",\"\"[\"\"\"\"yusiang\"\"\"\",[\"\"\"\"\"\"\"\"],{\"\"\"\"startDate\"\"\"\":null,\"\"\"\"endDate\"\"\"\":\"\"\"\"Dec 31, 9999 12:00:00 AM\"\"\"\"},\"\"\"\"Y\"\"\"\",{\"\"\"\"conditionList\"\"\"\":[],\"\"\"\"logicalOperator\"\"\"\":null},null,1,50]\"\",\"\"3001\"\",\"\"_____table\"\",0\",\n",
      "\n",
      "Processing: 33.29%\n",
      "Processing: 34.30%\n",
      "Processing: 35.30%\n",
      "Processing: 36.31%\n",
      "Processing: 37.32%\n",
      "Processing: 38.33%\n",
      "Processing: 39.34%\n",
      "Processing: 40.35%\n",
      "Processing: 41.36%\n",
      "Processing: 42.37%\n",
      "Processing: 43.37%\n",
      "Processing: 44.38%\n",
      "Processing: 45.39%\n",
      "Processing: 46.40%\n",
      "Processing: 47.41%\n",
      "Processing: 48.42%\n",
      "Processing: 49.43%\n",
      "Processing: 50.43%\n",
      "Processing: 51.44%\n",
      "Processing: 52.45%\n",
      "Processing: 53.46%\n",
      "Processing: 54.47%\n",
      "Processing: 55.48%\n",
      "Processing: 56.49%\n",
      "Processing: 57.50%\n",
      "Processing: 58.50%\n",
      "Processing: 59.51%\n",
      "Processing: 60.52%\n",
      "Processing: 61.53%\n",
      "Processing: 62.54%\n",
      "Processing: 63.55%\n",
      "Processing: 64.56%\n",
      "Processing: 65.57%\n",
      "Unexpected error: (<class 'AssertionError'>, AssertionError('doc list length error',), <traceback object at 0x109222688>)\n",
      "['10.67.155.43', 'mPOS', '22-3_ -17', 'queryWithIndex', 'mPOS', 'startDate', 'null', 'endDate', 'null', 'conditionList', 'classType', 'Condition', 'clause', 'null', 'condition', 'logicalOperator', 'comparisonOperator', 'policyCode', 'value', 'null]', 'logicalOperator', 'nullnull1-1]', '3001', '_____table']\n",
      "\"10.67.155.43,\"\"mPOS\"\",22-3_ -17,\"\"queryWithIndex\"\",\"\"[\"\"\"\"mPOS\"\"\"\",[\"\"\"\"\"\"\"\"],{\"\"\"\"startDate\"\"\"\":null,\"\"\"\"endDate\"\"\"\":null},\"\"\"\"Y\"\"\"\",{\"\"\"\"conditionList\"\"\"\":[{\"\"\"\"classType\"\"\"\":\"\"\"\"Condition\"\"\"\",\"\"\"\"clause\"\"\"\":null,\"\"\"\"condition\"\"\"\":{\"\"\"\"logicalOperator\"\"\"\":\"\"\"\"AND\"\"\"\",\"\"\"\"comparisonOperator\"\"\"\":\"\"\"\"EQ\"\"\"\",\"\"\"\"key\"\"\"\":\"\"\"\"policyCode\"\"\"\",\"\"\"\"value\"\"\"\":null}}],\"\"\"\"logicalOperator\"\"\"\":null},null,1,-1]\"\",\"\"3001\"\",\"\"_____table\"\",0\",\n",
      "\n",
      "Unexpected error: (<class 'AssertionError'>, AssertionError('doc list length error',), <traceback object at 0x109222688>)\n",
      "['10.67.155.43', 'mPOS', '22-3_ -17', 'queryWithIndex', 'mPOS', 'startDate', 'null', 'endDate', 'null', 'conditionList', 'classType', 'Condition', 'clause', 'null', 'condition', 'logicalOperator', 'comparisonOperator', 'policyCode', 'value', 'null]', 'logicalOperator', 'nullnull1-1]', '3001', '_____table']\n",
      "\"10.67.155.43,\"\"mPOS\"\",22-3_ -17,\"\"queryWithIndex\"\",\"\"[\"\"\"\"mPOS\"\"\"\",[\"\"\"\"\"\"\"\"],{\"\"\"\"startDate\"\"\"\":null,\"\"\"\"endDate\"\"\"\":null},\"\"\"\"Y\"\"\"\",{\"\"\"\"conditionList\"\"\"\":[{\"\"\"\"classType\"\"\"\":\"\"\"\"Condition\"\"\"\",\"\"\"\"clause\"\"\"\":null,\"\"\"\"condition\"\"\"\":{\"\"\"\"logicalOperator\"\"\"\":\"\"\"\"AND\"\"\"\",\"\"\"\"comparisonOperator\"\"\"\":\"\"\"\"EQ\"\"\"\",\"\"\"\"key\"\"\"\":\"\"\"\"policyCode\"\"\"\",\"\"\"\"value\"\"\"\":null}}],\"\"\"\"logicalOperator\"\"\"\":null},null,1,-1]\"\",\"\"3001\"\",\"\"_____table\"\",0\",\n",
      "\n",
      "Processing: 66.57%\n",
      "Processing: 67.58%\n",
      "Processing: 68.59%\n",
      "Processing: 69.60%\n",
      "Processing: 70.61%\n",
      "Processing: 71.62%\n",
      "Processing: 72.63%\n",
      "Processing: 73.63%\n",
      "Processing: 74.64%\n",
      "Processing: 75.65%\n",
      "Processing: 76.66%\n",
      "Processing: 77.67%\n",
      "Processing: 78.68%\n",
      "Processing: 79.69%\n",
      "Processing: 80.70%\n",
      "Processing: 81.70%\n",
      "Processing: 82.71%\n",
      "Processing: 83.72%\n",
      "Processing: 84.73%\n",
      "Processing: 85.74%\n",
      "Processing: 86.75%\n",
      "Processing: 87.76%\n",
      "Processing: 88.77%\n",
      "Processing: 89.77%\n",
      "Unexpected error: (<class 'AssertionError'>, AssertionError('doc list length error',), <traceback object at 0x109595548>)\n",
      "['10.67.67.53', 'mPOS', '21-4_ -17', 'queryWithIndex', 'mPOS', 'startDate', 'null', 'endDate', 'null', 'conditionList', 'classType', 'Condition', 'clause', 'null', 'condition', 'logicalOperator', 'comparisonOperator', 'reportClass', 'value', 'null]', 'logicalOperator', 'nullnull1-1]', '3001', '_____table', '328311']\n",
      "\"10.67.67.53,\"\"mPOS\"\",21-4_ -17,\"\"queryWithIndex\"\",\"\"[\"\"\"\"mPOS\"\"\"\",[\"\"\"\"\"\"\"\"],{\"\"\"\"startDate\"\"\"\":null,\"\"\"\"endDate\"\"\"\":null},\"\"\"\"Y\"\"\"\",{\"\"\"\"conditionList\"\"\"\":[{\"\"\"\"classType\"\"\"\":\"\"\"\"Condition\"\"\"\",\"\"\"\"clause\"\"\"\":null,\"\"\"\"condition\"\"\"\":{\"\"\"\"logicalOperator\"\"\"\":\"\"\"\"AND\"\"\"\",\"\"\"\"comparisonOperator\"\"\"\":\"\"\"\"EQ\"\"\"\",\"\"\"\"key\"\"\"\":\"\"\"\"reportClass\"\"\"\",\"\"\"\"value\"\"\"\":null}}],\"\"\"\"logicalOperator\"\"\"\":null},null,1,-1]\"\",\"\"3001\"\",\"\"_____table\"\",328311\",\n",
      "\n",
      "Processing: 90.78%\n",
      "Unexpected error: (<class 'AssertionError'>, AssertionError('doc list length error',), <traceback object at 0x1095a0248>)\n",
      "['10.67.155.91', 'mPOS', '20-4_ -17', 'queryWithIndex', 'mPOS', 'startDate', 'null', 'endDate', 'null', 'conditionList', 'logicalOperator', 'nullnull1-1]', '3001', '_____table', '299689']\n",
      "\"10.67.155.91,\"\"mPOS\"\",20-4_ -17,\"\"queryWithIndex\"\",\"\"[\"\"\"\"mPOS\"\"\"\",[\"\"\"\"\"\"\"\"],{\"\"\"\"startDate\"\"\"\":null,\"\"\"\"endDate\"\"\"\":null},\"\"\"\"Y\"\"\"\",{\"\"\"\"conditionList\"\"\"\":[],\"\"\"\"logicalOperator\"\"\"\":null},null,1,-1]\"\",\"\"3001\"\",\"\"_____table\"\",299689\",\n",
      "\n"
     ]
    },
    {
     "name": "stdout",
     "output_type": "stream",
     "text": [
      "Unexpected error: (<class 'AssertionError'>, AssertionError('doc list length error',), <traceback object at 0x1095a4908>)\n",
      "['10.67.67.52', 'mPOS', '20-4_ -17', 'queryWithIndex', 'mPOS', 'startDate', 'null', 'endDate', 'null', 'conditionList', 'classType', 'Condition', 'clause', 'null', 'condition', 'logicalOperator', 'comparisonOperator', 'reportClass', 'value', 'logicalOperator', 'nullnull1-1]', '3001', '_____table', '304640']\n",
      "\"10.67.67.52,\"\"mPOS\"\",20-4_ -17,\"\"queryWithIndex\"\",\"\"[\"\"\"\"mPOS\"\"\"\",[\"\"\"\"\"\"\"\"],{\"\"\"\"startDate\"\"\"\":null,\"\"\"\"endDate\"\"\"\":null},\"\"\"\"Y\"\"\"\",{\"\"\"\"conditionList\"\"\"\":[{\"\"\"\"classType\"\"\"\":\"\"\"\"Condition\"\"\"\",\"\"\"\"clause\"\"\"\":null,\"\"\"\"condition\"\"\"\":{\"\"\"\"logicalOperator\"\"\"\":\"\"\"\"AND\"\"\"\",\"\"\"\"comparisonOperator\"\"\"\":\"\"\"\"EQ\"\"\"\",\"\"\"\"key\"\"\"\":\"\"\"\"reportClass\"\"\"\",\"\"\"\"value\"\"\"\":\"\"\"\"8\"\"\"\"}}],\"\"\"\"logicalOperator\"\"\"\":null},null,1,-1]\"\",\"\"3001\"\",\"\"_____table\"\",304640\",\n",
      "\n",
      "Processing: 91.79%\n",
      "Processing: 92.80%\n",
      "Processing: 93.81%\n",
      "Processing: 94.82%\n",
      "Processing: 95.83%\n",
      "Processing: 96.83%\n",
      "Processing: 97.84%\n",
      "Processing: 98.85%\n",
      "Processing: 99.86%\n"
     ]
    }
   ],
   "source": [
    "for idx, raw_data in enumerate(lines):\n",
    "    if(idx%500==0):\n",
    "        print(\"Processing: {0:.2f}%\".format(idx*100/len(lines)))\n",
    "    try:\n",
    "        parse = [x for x in raw_data.replace(\",\", \"\").replace(\":\", \"\").replace(\"}\", \"\").split('\"') if len(x)>3]\n",
    "        if(len(parse)<9):\n",
    "#             if('downloadWithGuid' in raw_data or 'downloadWithIndex' in raw_data):\n",
    "#                 continue\n",
    "#             if('at' in raw_data):\n",
    "#                 continue\n",
    "#             else:\n",
    "#                 #print(raw_data)\n",
    "            continue\n",
    "        d = dict()\n",
    "        if(parse[3]=='queryWithIndex'):\n",
    "            d[\"username\"] = parse[1]\n",
    "            d[\"query_date\"] = datetime.strptime(parse[2], '%d-%m_ -%y')\n",
    "            d[\"report_name\"] = parse[4]\n",
    "            assert d[\"username\"]==d[\"report_name\"], \"Name different!\"\n",
    "            if('startDate' in parse):\n",
    "                d[\"is_period\"] = True\n",
    "                startDate_index = parse.index('startDate')\n",
    "                docs = parse[5:startDate_index]\n",
    "                assert len(docs)>0, 'doc list length error'\n",
    "                assert parse[startDate_index]== 'startDate', \" 'startDate' format error\"\n",
    "                if(parse[startDate_index+1]!='null'):\n",
    "                    d[\"start_date\"] = pd.Period(datetime.strptime(parse[startDate_index+1], '%b %d %Y %I%M%S %p'), freq='D')\n",
    "                else:\n",
    "                    d[\"start_date\"] = float('nan')\n",
    "                assert parse[startDate_index+2]== 'endDate', \" 'endDate' format error\"\n",
    "                if(parse[startDate_index+3]!='null'):\n",
    "                    d[\"end_date\"] = pd.Period(datetime.strptime(parse[startDate_index+3], '%b %d %Y %I%M%S %p'), freq='D')\n",
    "                else:\n",
    "                    d[\"end_date\"] = float('nan')\n",
    "            else:\n",
    "                d[\"is_period\"] = False\n",
    "                d[\"start_date\"] =float('nan')\n",
    "                d[\"end_date\"] = float('nan')\n",
    "                doc_end_flag = parse.index(']null')\n",
    "                docs = parse[5:doc_end_flag]\n",
    "            for doc in docs:\n",
    "                d[\"doc\"] = doc\n",
    "                df = df.append(d, ignore_index=True)\n",
    "    except:\n",
    "            print(\"Unexpected error:\", sys.exc_info())\n",
    "            print(parse)\n",
    "            print(raw_data)\n",
    "    "
   ]
  },
  {
   "cell_type": "code",
   "execution_count": 11,
   "metadata": {
    "scrolled": false
   },
   "outputs": [
    {
     "data": {
      "text/html": [
       "<div>\n",
       "<table border=\"1\" class=\"dataframe\">\n",
       "  <thead>\n",
       "    <tr style=\"text-align: right;\">\n",
       "      <th></th>\n",
       "      <th>username</th>\n",
       "      <th>query_date</th>\n",
       "      <th>report_name</th>\n",
       "      <th>doc</th>\n",
       "      <th>start_date</th>\n",
       "      <th>end_date</th>\n",
       "      <th>is_period</th>\n",
       "    </tr>\n",
       "  </thead>\n",
       "  <tbody>\n",
       "    <tr>\n",
       "      <th>0</th>\n",
       "      <td>001713</td>\n",
       "      <td>2017-02-10</td>\n",
       "      <td>001713</td>\n",
       "      <td>ODS_UNB_0460</td>\n",
       "      <td>2016-08-31</td>\n",
       "      <td>2016-08-31</td>\n",
       "      <td>True</td>\n",
       "    </tr>\n",
       "    <tr>\n",
       "      <th>1</th>\n",
       "      <td>calvin</td>\n",
       "      <td>2017-02-10</td>\n",
       "      <td>calvin</td>\n",
       "      <td>ODS_PA_0500_P</td>\n",
       "      <td>2016-11-30</td>\n",
       "      <td>2016-11-30</td>\n",
       "      <td>True</td>\n",
       "    </tr>\n",
       "    <tr>\n",
       "      <th>2</th>\n",
       "      <td>calvin</td>\n",
       "      <td>2017-02-10</td>\n",
       "      <td>calvin</td>\n",
       "      <td>ODS_FIN_0573</td>\n",
       "      <td>NaT</td>\n",
       "      <td>9999-12-31</td>\n",
       "      <td>True</td>\n",
       "    </tr>\n",
       "    <tr>\n",
       "      <th>3</th>\n",
       "      <td>user1</td>\n",
       "      <td>2017-02-10</td>\n",
       "      <td>user1</td>\n",
       "      <td>ODS_POS_0990</td>\n",
       "      <td>NaT</td>\n",
       "      <td>9999-12-31</td>\n",
       "      <td>True</td>\n",
       "    </tr>\n",
       "    <tr>\n",
       "      <th>4</th>\n",
       "      <td>user1</td>\n",
       "      <td>2017-02-10</td>\n",
       "      <td>user1</td>\n",
       "      <td>ODS_POS_0990</td>\n",
       "      <td>NaT</td>\n",
       "      <td>9999-12-31</td>\n",
       "      <td>True</td>\n",
       "    </tr>\n",
       "  </tbody>\n",
       "</table>\n",
       "</div>"
      ],
      "text/plain": [
       "  username query_date report_name            doc start_date   end_date  \\\n",
       "0   001713 2017-02-10      001713   ODS_UNB_0460 2016-08-31 2016-08-31   \n",
       "1   calvin 2017-02-10      calvin  ODS_PA_0500_P 2016-11-30 2016-11-30   \n",
       "2   calvin 2017-02-10      calvin   ODS_FIN_0573        NaT 9999-12-31   \n",
       "3    user1 2017-02-10       user1   ODS_POS_0990        NaT 9999-12-31   \n",
       "4    user1 2017-02-10       user1   ODS_POS_0990        NaT 9999-12-31   \n",
       "\n",
       "  is_period  \n",
       "0      True  \n",
       "1      True  \n",
       "2      True  \n",
       "3      True  \n",
       "4      True  "
      ]
     },
     "execution_count": 11,
     "metadata": {},
     "output_type": "execute_result"
    }
   ],
   "source": [
    "df.head()"
   ]
  },
  {
   "cell_type": "code",
   "execution_count": 7,
   "metadata": {},
   "outputs": [
    {
     "data": {
      "text/plain": [
       "(32323, 7)"
      ]
     },
     "execution_count": 7,
     "metadata": {},
     "output_type": "execute_result"
    }
   ],
   "source": [
    "df.shape"
   ]
  },
  {
   "cell_type": "code",
   "execution_count": 8,
   "metadata": {
    "collapsed": true
   },
   "outputs": [],
   "source": [
    "df.to_csv('out.csv')"
   ]
  },
  {
   "cell_type": "code",
   "execution_count": 9,
   "metadata": {},
   "outputs": [
    {
     "data": {
      "text/plain": [
       "mPOS          19206\n",
       "CSIS-SIT3      1900\n",
       "user1           865\n",
       "user4           667\n",
       "000442          623\n",
       "roxana          611\n",
       "user2           525\n",
       "CSIS            489\n",
       "user18          466\n",
       "yusiang         382\n",
       "user3           341\n",
       "user5           335\n",
       "shiang          330\n",
       "000768          308\n",
       "001415          281\n",
       "002064          258\n",
       "000358          239\n",
       "000898          224\n",
       "000368          212\n",
       "ricky           206\n",
       "user10          206\n",
       "000923          195\n",
       "calvin          171\n",
       "000316          161\n",
       "user6           144\n",
       "user11          118\n",
       "000279          118\n",
       "jesse           111\n",
       "user8           111\n",
       "000718          105\n",
       "              ...  \n",
       "001414           21\n",
       "CSIS-R5          20\n",
       "user16           19\n",
       "001883           17\n",
       "AGYYEE           16\n",
       "001416           14\n",
       "000217           13\n",
       "invdaphne        13\n",
       "NBJENIA          12\n",
       "test             12\n",
       "LIFE             10\n",
       "janus             9\n",
       "000323            8\n",
       "000270            8\n",
       "000551            8\n",
       "allencha          7\n",
       "001420            6\n",
       "000622            6\n",
       "Cheng             5\n",
       "user17            5\n",
       "CFtestUser        5\n",
       "001726            4\n",
       "001158            4\n",
       "001101            3\n",
       "000257            3\n",
       "001735            3\n",
       "yenchin           3\n",
       "EVOICE            2\n",
       "000606            1\n",
       "001336            1\n",
       "Name: username, dtype: int64"
      ]
     },
     "execution_count": 9,
     "metadata": {},
     "output_type": "execute_result"
    }
   ],
   "source": [
    "df['username'].value_counts()"
   ]
  },
  {
   "cell_type": "code",
   "execution_count": 10,
   "metadata": {},
   "outputs": [
    {
     "data": {
      "text/plain": [
       "report001                           3396\n",
       "FMT_POS_0130                         758\n",
       "FMT_POS_0190                         632\n",
       "FMT_POS_190                          578\n",
       "#POLICY#                             559\n",
       "FMT_PA_0750                          556\n",
       "FMT_POS_0290                         551\n",
       "FMT_POS_0470                         550\n",
       "FMT_POS_0360                         535\n",
       "FMT_POS_0180                         527\n",
       "FMT_POS_0070                         525\n",
       "FMT_POS_0080                         523\n",
       "FMT_POS_0100                         515\n",
       "FMT_PA_0710                          496\n",
       "FMT_POS_0150                         493\n",
       "FMT_POS_0090                         491\n",
       "FMT_POS_0270                         487\n",
       "FMT_POS_1670                         484\n",
       "FMT_POS_0310                         483\n",
       "FMT_POS_0320                         476\n",
       "FMT_POS_1570                         473\n",
       "FMT_POS_7210                         472\n",
       "FMT_POS_0110                         472\n",
       "FMT_POS_0340                         471\n",
       "FMT_POS_7230                         466\n",
       "FMT_POS_7220                         450\n",
       "FMT_PA_0850                          410\n",
       "FMT_PA_0851                          407\n",
       "FMT_POS_0060                         405\n",
       "FMT_PA_0853                          371\n",
       "                                    ... \n",
       "ODS_PA_0550                            1\n",
       "ODS_UNB_0090                           1\n",
       "ODS_ESP_0203                           1\n",
       "LS_SC_5100                             1\n",
       "LS_SC_5600                             1\n",
       "ODS_RI_0330                            1\n",
       "LS_SC_5070                             1\n",
       "ODS_FIN_0920                           1\n",
       "ODS_FIN_0593                           1\n",
       "ODS_PA_0370                            1\n",
       "LS_SC_2104                             1\n",
       "ODS_FIN_0741                           1\n",
       "ODS-POS-0940                           1\n",
       "ODS_FIN_0742                           1\n",
       "ODS_FIN_0720                           1\n",
       "ODS-POS-1140                           1\n",
       "ODS_SC_6140                            1\n",
       "ODS_FIN_0933                           1\n",
       "ODS_FIN_0932                           1\n",
       "ODS_RI_0300                            1\n",
       "ODS_FIN_0782                           1\n",
       "ODS_FIN_0590                           1\n",
       "ODS_FIN_0743                           1\n",
       "LS_SC_2041                             1\n",
       "ODS_PA_0610                            1\n",
       "ODS_FIN_0931                           1\n",
       "ODS_FIN_0800                           1\n",
       "ODS_FIN_0764                           1\n",
       "04618077b3f340bdaa594a00d9fcf982       1\n",
       "FMT_SC_2020                            1\n",
       "Name: doc, dtype: int64"
      ]
     },
     "execution_count": 10,
     "metadata": {},
     "output_type": "execute_result"
    }
   ],
   "source": [
    "df['doc'].value_counts()"
   ]
  }
 ],
 "metadata": {
  "kernelspec": {
   "display_name": "Python 3",
   "language": "python",
   "name": "python3"
  },
  "language_info": {
   "codemirror_mode": {
    "name": "ipython",
    "version": 3
   },
   "file_extension": ".py",
   "mimetype": "text/x-python",
   "name": "python",
   "nbconvert_exporter": "python",
   "pygments_lexer": "ipython3",
   "version": "3.6.1"
  }
 },
 "nbformat": 4,
 "nbformat_minor": 2
}
