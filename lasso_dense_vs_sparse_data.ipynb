{
 "cells": [
  {
   "cell_type": "code",
   "execution_count": 1,
   "metadata": {
    "collapsed": false
   },
   "outputs": [],
   "source": [
    "%matplotlib inline"
   ]
  },
  {
   "cell_type": "markdown",
   "metadata": {},
   "source": [
    "\n",
    "# Lasso on dense and sparse data\n",
    "\n",
    "\n",
    "We show that linear_model.Lasso provides the same results for dense and sparse\n",
    "data and that in the case of sparse data the speed is improved.\n",
    "\n"
   ]
  },
  {
   "cell_type": "code",
   "execution_count": 2,
   "metadata": {
    "collapsed": false
   },
   "outputs": [
    {
     "name": "stdout",
     "output_type": "stream",
     "text": [
      "Automatically created module for IPython interactive environment\n"
     ]
    }
   ],
   "source": [
    "print(__doc__)\n",
    "\n",
    "from time import time\n",
    "from scipy import sparse\n",
    "from scipy import linalg\n",
    "\n",
    "from sklearn.datasets.samples_generator import make_regression\n",
    "from sklearn.linear_model import Lasso"
   ]
  },
  {
   "cell_type": "markdown",
   "metadata": {},
   "source": [
    "The two Lasso implementations on Dense data\n"
   ]
  },
  {
   "cell_type": "code",
   "execution_count": 4,
   "metadata": {
    "collapsed": false
   },
   "outputs": [
    {
     "name": "stdout",
     "output_type": "stream",
     "text": [
      "--- Dense matrices\n",
      "Sparse Lasso done in 0.106633s\n",
      "Dense Lasso done in 0.060395s\n",
      "Distance between coefficients : 8.966643935170255e-14\n"
     ]
    }
   ],
   "source": [
    "print(\"--- Dense matrices\")\n",
    "\n",
    "X, y = make_regression(n_samples=200, n_features=5000, random_state=0)\n",
    "X_sp = sparse.coo_matrix(X)\n",
    "\n",
    "alpha = 1\n",
    "sparse_lasso = Lasso(alpha=alpha, fit_intercept=False, max_iter=1000)\n",
    "dense_lasso = Lasso(alpha=alpha, fit_intercept=False, max_iter=1000)\n",
    "\n",
    "t0 = time()\n",
    "sparse_lasso.fit(X_sp, y)\n",
    "print(\"Sparse Lasso done in %fs\" % (time() - t0))\n",
    "\n",
    "t0 = time()\n",
    "dense_lasso.fit(X, y)\n",
    "print(\"Dense Lasso done in %fs\" % (time() - t0))\n",
    "\n",
    "print(\"Distance between coefficients : %s\"\n",
    "      % linalg.norm(sparse_lasso.coef_ - dense_lasso.coef_))"
   ]
  },
  {
   "cell_type": "markdown",
   "metadata": {},
   "source": [
    "The two Lasso implementations on Sparse data\n"
   ]
  },
  {
   "cell_type": "code",
   "execution_count": 5,
   "metadata": {
    "collapsed": false
   },
   "outputs": [
    {
     "name": "stdout",
     "output_type": "stream",
     "text": [
      "--- Sparse matrices\n",
      "Matrix density : 0.6263000000000001 %\n",
      "Sparse Lasso done in 0.173333s\n",
      "Dense Lasso done in 1.626819s\n",
      "Distance between coefficients : 8.500396331972189e-12\n"
     ]
    }
   ],
   "source": [
    "print(\"--- Sparse matrices\")\n",
    "\n",
    "Xs = X.copy()\n",
    "Xs[Xs < 2.5] = 0.0\n",
    "Xs = sparse.coo_matrix(Xs)\n",
    "Xs = Xs.tocsc()\n",
    "\n",
    "print(\"Matrix density : %s %%\" % (Xs.nnz / float(X.size) * 100))\n",
    "\n",
    "alpha = 0.1\n",
    "sparse_lasso = Lasso(alpha=alpha, fit_intercept=False, max_iter=10000)\n",
    "dense_lasso = Lasso(alpha=alpha, fit_intercept=False, max_iter=10000)\n",
    "\n",
    "t0 = time()\n",
    "sparse_lasso.fit(Xs, y)\n",
    "print(\"Sparse Lasso done in %fs\" % (time() - t0))\n",
    "\n",
    "t0 = time()\n",
    "dense_lasso.fit(Xs.toarray(), y)\n",
    "print(\"Dense Lasso done in %fs\" % (time() - t0))\n",
    "\n",
    "print(\"Distance between coefficients : %s\"\n",
    "      % linalg.norm(sparse_lasso.coef_ - dense_lasso.coef_))"
   ]
  },
  {
   "cell_type": "code",
   "execution_count": null,
   "metadata": {
    "collapsed": true
   },
   "outputs": [],
   "source": []
  }
 ],
 "metadata": {
  "kernelspec": {
   "display_name": "Python 3",
   "language": "python",
   "name": "python3"
  },
  "language_info": {
   "codemirror_mode": {
    "name": "ipython",
    "version": 3
   },
   "file_extension": ".py",
   "mimetype": "text/x-python",
   "name": "python",
   "nbconvert_exporter": "python",
   "pygments_lexer": "ipython3",
   "version": "3.6.1"
  }
 },
 "nbformat": 4,
 "nbformat_minor": 0
}
