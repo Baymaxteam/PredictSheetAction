{
 "cells": [
  {
   "cell_type": "code",
   "execution_count": 1,
   "metadata": {
    "collapsed": false
   },
   "outputs": [],
   "source": [
    "# Quake Forecast: Predict Time, Location and Magnitude of a Quake\n",
    "import pandas as pd\n",
    "import time\n",
    "from datetime import datetime\n",
    "from sklearn.linear_model import LinearRegression\n",
    "from sklearn.ensemble import RandomForestClassifier\n",
    "from sklearn.model_selection import train_test_split\n"
   ]
  },
  {
   "cell_type": "code",
   "execution_count": 2,
   "metadata": {
    "collapsed": true
   },
   "outputs": [],
   "source": [
    "username = 'mPOS'\n",
    "query_date_year = 2017\n",
    "query_date_month = 5\n",
    "query_date_day = 5\n",
    "query_date_weekday = 5"
   ]
  },
  {
   "cell_type": "code",
   "execution_count": 3,
   "metadata": {
    "collapsed": false
   },
   "outputs": [],
   "source": [
    "trainDF = pd.read_csv('TrainingFeature.csv', index_col=False )"
   ]
  },
  {
   "cell_type": "code",
   "execution_count": 4,
   "metadata": {
    "collapsed": false
   },
   "outputs": [],
   "source": [
    "feature = ['username',  'query_date_year' , 'query_date_month'  ,'query_date_day', 'query_date_weekday'  ]"
   ]
  },
  {
   "cell_type": "code",
   "execution_count": 16,
   "metadata": {
    "collapsed": false
   },
   "outputs": [],
   "source": [
    "# Predict Location\n",
    "targetDoc = 'FMT_POS_190'\n",
    "targetDF = pd.read_csv(targetDoc + '_Target.csv' )\n",
    "\n",
    "Pre_data = trainDF[feature]\n",
    "target = targetDF[targetDoc]\n",
    "# print(target)\n",
    "# Pre_data"
   ]
  },
  {
   "cell_type": "code",
   "execution_count": 17,
   "metadata": {
    "collapsed": false
   },
   "outputs": [],
   "source": [
    "data = pd.get_dummies(Pre_data)"
   ]
  },
  {
   "cell_type": "code",
   "execution_count": 18,
   "metadata": {
    "collapsed": false
   },
   "outputs": [
    {
     "data": {
      "text/plain": [
       "(32323, 105)"
      ]
     },
     "execution_count": 18,
     "metadata": {},
     "output_type": "execute_result"
    }
   ],
   "source": [
    "data.shape"
   ]
  },
  {
   "cell_type": "code",
   "execution_count": 19,
   "metadata": {
    "collapsed": false
   },
   "outputs": [
    {
     "data": {
      "text/html": [
       "<div>\n",
       "<table border=\"1\" class=\"dataframe\">\n",
       "  <thead>\n",
       "    <tr style=\"text-align: right;\">\n",
       "      <th></th>\n",
       "      <th>query_date_year</th>\n",
       "      <th>query_date_month</th>\n",
       "      <th>query_date_day</th>\n",
       "      <th>query_date_weekday</th>\n",
       "      <th>username_000124</th>\n",
       "      <th>username_000166</th>\n",
       "      <th>username_000217</th>\n",
       "      <th>username_000219</th>\n",
       "      <th>username_000232</th>\n",
       "      <th>username_000257</th>\n",
       "      <th>...</th>\n",
       "      <th>username_user3</th>\n",
       "      <th>username_user4</th>\n",
       "      <th>username_user5</th>\n",
       "      <th>username_user6</th>\n",
       "      <th>username_user7</th>\n",
       "      <th>username_user8</th>\n",
       "      <th>username_user9</th>\n",
       "      <th>username_weiting</th>\n",
       "      <th>username_yenchin</th>\n",
       "      <th>username_yusiang</th>\n",
       "    </tr>\n",
       "  </thead>\n",
       "  <tbody>\n",
       "    <tr>\n",
       "      <th>0</th>\n",
       "      <td>2017</td>\n",
       "      <td>2</td>\n",
       "      <td>10</td>\n",
       "      <td>5</td>\n",
       "      <td>0</td>\n",
       "      <td>0</td>\n",
       "      <td>0</td>\n",
       "      <td>0</td>\n",
       "      <td>0</td>\n",
       "      <td>0</td>\n",
       "      <td>...</td>\n",
       "      <td>0</td>\n",
       "      <td>0</td>\n",
       "      <td>0</td>\n",
       "      <td>0</td>\n",
       "      <td>0</td>\n",
       "      <td>0</td>\n",
       "      <td>0</td>\n",
       "      <td>0</td>\n",
       "      <td>0</td>\n",
       "      <td>0</td>\n",
       "    </tr>\n",
       "    <tr>\n",
       "      <th>1</th>\n",
       "      <td>2017</td>\n",
       "      <td>2</td>\n",
       "      <td>10</td>\n",
       "      <td>5</td>\n",
       "      <td>0</td>\n",
       "      <td>0</td>\n",
       "      <td>0</td>\n",
       "      <td>0</td>\n",
       "      <td>0</td>\n",
       "      <td>0</td>\n",
       "      <td>...</td>\n",
       "      <td>0</td>\n",
       "      <td>0</td>\n",
       "      <td>0</td>\n",
       "      <td>0</td>\n",
       "      <td>0</td>\n",
       "      <td>0</td>\n",
       "      <td>0</td>\n",
       "      <td>0</td>\n",
       "      <td>0</td>\n",
       "      <td>0</td>\n",
       "    </tr>\n",
       "    <tr>\n",
       "      <th>2</th>\n",
       "      <td>2017</td>\n",
       "      <td>2</td>\n",
       "      <td>10</td>\n",
       "      <td>5</td>\n",
       "      <td>0</td>\n",
       "      <td>0</td>\n",
       "      <td>0</td>\n",
       "      <td>0</td>\n",
       "      <td>0</td>\n",
       "      <td>0</td>\n",
       "      <td>...</td>\n",
       "      <td>0</td>\n",
       "      <td>0</td>\n",
       "      <td>0</td>\n",
       "      <td>0</td>\n",
       "      <td>0</td>\n",
       "      <td>0</td>\n",
       "      <td>0</td>\n",
       "      <td>0</td>\n",
       "      <td>0</td>\n",
       "      <td>0</td>\n",
       "    </tr>\n",
       "    <tr>\n",
       "      <th>3</th>\n",
       "      <td>2017</td>\n",
       "      <td>2</td>\n",
       "      <td>10</td>\n",
       "      <td>5</td>\n",
       "      <td>0</td>\n",
       "      <td>0</td>\n",
       "      <td>0</td>\n",
       "      <td>0</td>\n",
       "      <td>0</td>\n",
       "      <td>0</td>\n",
       "      <td>...</td>\n",
       "      <td>0</td>\n",
       "      <td>0</td>\n",
       "      <td>0</td>\n",
       "      <td>0</td>\n",
       "      <td>0</td>\n",
       "      <td>0</td>\n",
       "      <td>0</td>\n",
       "      <td>0</td>\n",
       "      <td>0</td>\n",
       "      <td>0</td>\n",
       "    </tr>\n",
       "    <tr>\n",
       "      <th>4</th>\n",
       "      <td>2017</td>\n",
       "      <td>2</td>\n",
       "      <td>10</td>\n",
       "      <td>5</td>\n",
       "      <td>0</td>\n",
       "      <td>0</td>\n",
       "      <td>0</td>\n",
       "      <td>0</td>\n",
       "      <td>0</td>\n",
       "      <td>0</td>\n",
       "      <td>...</td>\n",
       "      <td>0</td>\n",
       "      <td>0</td>\n",
       "      <td>0</td>\n",
       "      <td>0</td>\n",
       "      <td>0</td>\n",
       "      <td>0</td>\n",
       "      <td>0</td>\n",
       "      <td>0</td>\n",
       "      <td>0</td>\n",
       "      <td>0</td>\n",
       "    </tr>\n",
       "  </tbody>\n",
       "</table>\n",
       "<p>5 rows × 105 columns</p>\n",
       "</div>"
      ],
      "text/plain": [
       "   query_date_year  query_date_month  query_date_day  query_date_weekday  \\\n",
       "0             2017                 2              10                   5   \n",
       "1             2017                 2              10                   5   \n",
       "2             2017                 2              10                   5   \n",
       "3             2017                 2              10                   5   \n",
       "4             2017                 2              10                   5   \n",
       "\n",
       "   username_000124  username_000166  username_000217  username_000219  \\\n",
       "0                0                0                0                0   \n",
       "1                0                0                0                0   \n",
       "2                0                0                0                0   \n",
       "3                0                0                0                0   \n",
       "4                0                0                0                0   \n",
       "\n",
       "   username_000232  username_000257        ...         username_user3  \\\n",
       "0                0                0        ...                      0   \n",
       "1                0                0        ...                      0   \n",
       "2                0                0        ...                      0   \n",
       "3                0                0        ...                      0   \n",
       "4                0                0        ...                      0   \n",
       "\n",
       "   username_user4  username_user5  username_user6  username_user7  \\\n",
       "0               0               0               0               0   \n",
       "1               0               0               0               0   \n",
       "2               0               0               0               0   \n",
       "3               0               0               0               0   \n",
       "4               0               0               0               0   \n",
       "\n",
       "   username_user8  username_user9  username_weiting  username_yenchin  \\\n",
       "0               0               0                 0                 0   \n",
       "1               0               0                 0                 0   \n",
       "2               0               0                 0                 0   \n",
       "3               0               0                 0                 0   \n",
       "4               0               0                 0                 0   \n",
       "\n",
       "   username_yusiang  \n",
       "0                 0  \n",
       "1                 0  \n",
       "2                 0  \n",
       "3                 0  \n",
       "4                 0  \n",
       "\n",
       "[5 rows x 105 columns]"
      ]
     },
     "execution_count": 19,
     "metadata": {},
     "output_type": "execute_result"
    }
   ],
   "source": [
    "data.head(5)"
   ]
  },
  {
   "cell_type": "code",
   "execution_count": 20,
   "metadata": {
    "collapsed": false
   },
   "outputs": [],
   "source": [
    "featureHead = data.axes[1]"
   ]
  },
  {
   "cell_type": "code",
   "execution_count": 21,
   "metadata": {
    "collapsed": false
   },
   "outputs": [],
   "source": [
    "X_train, X_test, y_train, y_test = train_test_split(data, target, test_size=0.33, random_state=42)"
   ]
  },
  {
   "cell_type": "code",
   "execution_count": 22,
   "metadata": {
    "collapsed": false
   },
   "outputs": [
    {
     "data": {
      "text/plain": [
       "((21656, 105), (21656,))"
      ]
     },
     "execution_count": 22,
     "metadata": {},
     "output_type": "execute_result"
    }
   ],
   "source": [
    "X_train.shape, y_train.shape"
   ]
  },
  {
   "cell_type": "code",
   "execution_count": 12,
   "metadata": {
    "collapsed": false
   },
   "outputs": [
    {
     "data": {
      "text/plain": [
       "((10667, 105), (10667,))"
      ]
     },
     "execution_count": 12,
     "metadata": {},
     "output_type": "execute_result"
    }
   ],
   "source": [
    "X_test.shape, y_test.shape"
   ]
  },
  {
   "cell_type": "code",
   "execution_count": 13,
   "metadata": {
    "collapsed": false
   },
   "outputs": [
    {
     "data": {
      "text/plain": [
       "0.98134433298959411"
      ]
     },
     "execution_count": 13,
     "metadata": {},
     "output_type": "execute_result"
    }
   ],
   "source": [
    "model = RandomForestClassifier(n_estimators=20)\n",
    "model.fit(data, target)\n",
    "model.score(X_test, y_test)   "
   ]
  },
  {
   "cell_type": "code",
   "execution_count": 14,
   "metadata": {
    "collapsed": false
   },
   "outputs": [],
   "source": [
    "from calendar import Calendar\n",
    "\n",
    "month = Calendar().itermonthdates(2017,3)\n",
    "allday =[day for day in month if day.month == 3]\n",
    "# print(allday) # this function will pad to make up full weeks, so filter it by month"
   ]
  },
  {
   "cell_type": "code",
   "execution_count": 15,
   "metadata": {
    "collapsed": false
   },
   "outputs": [
    {
     "name": "stdout",
     "output_type": "stream",
     "text": [
      "Predic Doc Name: FMT_POS_190\n",
      "2017-02-06  weekday:  1\n",
      "user feature:  username_mPOS  click prob:  [[ 0.78487853  0.21512147]]\n",
      "2017-02-22  weekday:  3\n",
      "user feature:  username_mPOS  click prob:  [[ 0.77699627  0.22300373]]\n",
      "2017-03-06  weekday:  1\n",
      "user feature:  username_mPOS  click prob:  [[ 0.65869941  0.34130059]]\n",
      "2017-03-09  weekday:  4\n",
      "user feature:  username_mPOS  click prob:  [[ 0.76830087  0.23169913]]\n",
      "2017-04-12  weekday:  3\n",
      "user feature:  username_mPOS  click prob:  [[ 0.64607514  0.35392486]]\n",
      "2017-06-14  weekday:  3\n",
      "user feature:  username_mPOS  click prob:  [[ 0.72682263  0.27317737]]\n",
      "2017-07-12  weekday:  3\n",
      "user feature:  username_mPOS  click prob:  [[ 0.64607514  0.35392486]]\n",
      "2017-09-12  weekday:  2\n",
      "user feature:  username_mPOS  click prob:  [[ 0.7805516  0.2194484]]\n",
      "2017-09-13  weekday:  3\n",
      "user feature:  username_mPOS  click prob:  [[ 0.70850658  0.29149342]]\n",
      "2017-10-11  weekday:  3\n",
      "user feature:  username_mPOS  click prob:  [[ 0.66613339  0.33386661]]\n",
      "2017-12-12  weekday:  2\n",
      "user feature:  username_mPOS  click prob:  [[ 0.7805516  0.2194484]]\n",
      "2017-12-13  weekday:  3\n",
      "user feature:  username_mPOS  click prob:  [[ 0.70850658  0.29149342]]\n"
     ]
    }
   ],
   "source": [
    "print(\"Predic Doc Name: \" + targetDoc )\n",
    "ClickDoc_Prob = 0.2\n",
    "\n",
    "for predic_month in range(12):\n",
    "    predic_month = predic_month + 1 \n",
    "    month = Calendar().itermonthdates(2017,predic_month)\n",
    "    allday =[day for day in month if day.month == predic_month]\n",
    "\n",
    "    for day in allday:\n",
    "        query_date_year = 2017\n",
    "        query_date_month = day.month\n",
    "        query_date_day = day.day\n",
    "        query_date_weekday = day.weekday()+1\n",
    "        pre_Data = [query_date_year,query_date_month,query_date_day,query_date_weekday]\n",
    "#         print(day,\" weekday: \", query_date_weekday)\n",
    "        predicAll = 0\n",
    "        for i in range(101):\n",
    "            listofzeros = [0] * (105 - 4)\n",
    "            listofzeros[i] = 1\n",
    "            predicData = pre_Data + listofzeros\n",
    "            doc_predict = model.predict([predicData])\n",
    "            doc_predict_proba = model.predict_proba([predicData])\n",
    "            if (doc_predict_proba[0][1] >= ClickDoc_Prob):\n",
    "                print(day,\" weekday: \", query_date_weekday)\n",
    "                print(\"user feature: \", featureHead[i+4], \" click prob: \", doc_predict_proba)\n",
    "            if (doc_predict != 0):\n",
    "                print(\"user click: \", featureHead[i+4])\n",
    "                predicAll = predicAll + doc_predict\n",
    "    #     print(\"all user click counter: \",predicAll, \"\\n\")\n"
   ]
  },
  {
   "cell_type": "code",
   "execution_count": 57,
   "metadata": {
    "collapsed": false
   },
   "outputs": [
    {
     "data": {
      "text/plain": [
       "array([[ 1.,  0.]])"
      ]
     },
     "execution_count": 57,
     "metadata": {},
     "output_type": "execute_result"
    }
   ],
   "source": [
    "model.predict_proba([predicData])"
   ]
  },
  {
   "cell_type": "code",
   "execution_count": null,
   "metadata": {
    "collapsed": true
   },
   "outputs": [],
   "source": []
  }
 ],
 "metadata": {
  "anaconda-cloud": {},
  "kernelspec": {
   "display_name": "Python 3",
   "language": "python",
   "name": "python3"
  },
  "language_info": {
   "codemirror_mode": {
    "name": "ipython",
    "version": 3
   },
   "file_extension": ".py",
   "mimetype": "text/x-python",
   "name": "python",
   "nbconvert_exporter": "python",
   "pygments_lexer": "ipython3",
   "version": "3.6.1"
  }
 },
 "nbformat": 4,
 "nbformat_minor": 1
}
