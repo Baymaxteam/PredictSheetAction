{
 "cells": [
  {
   "cell_type": "code",
   "execution_count": 2,
   "metadata": {
    "collapsed": false
   },
   "outputs": [],
   "source": [
    "# Quake Forecast: Predict Time, Location and Magnitude of a Quake\n",
    "import pandas as pd\n",
    "import time\n",
    "from datetime import datetime\n",
    "from sklearn.linear_model import LinearRegression\n",
    "from sklearn.ensemble import RandomForestClassifier\n",
    "from sklearn.model_selection import train_test_split\n",
    "import os\n",
    "from calendar import Calendar\n"
   ]
  },
  {
   "cell_type": "markdown",
   "metadata": {},
   "source": [
    "## 1. TrainingSet"
   ]
  },
  {
   "cell_type": "code",
   "execution_count": 116,
   "metadata": {
    "collapsed": false
   },
   "outputs": [],
   "source": [
    "def get_CSV_FileName(csvName, FolderName):\n",
    "    cwd = os.getcwd()\n",
    "    csvFullName = cwd + '/' + FolderName + '/' + csvName\n",
    "    print(csvFullName)\n",
    "    return csvFullName"
   ]
  },
  {
   "cell_type": "code",
   "execution_count": 117,
   "metadata": {
    "collapsed": false
   },
   "outputs": [
    {
     "name": "stdout",
     "output_type": "stream",
     "text": [
      "/Users/MH/SourceTreeproject/PredictSheetAction/Python_Prediction/eachUser/TrainingDataSets/TrainingFeature.csv\n"
     ]
    }
   ],
   "source": [
    "TrainingDataFolder = 'TrainingDataSets'\n",
    "csvTrainingFile = get_CSV_FileName('TrainingFeature.csv', TrainingDataFolder)"
   ]
  },
  {
   "cell_type": "code",
   "execution_count": 118,
   "metadata": {
    "collapsed": false
   },
   "outputs": [],
   "source": [
    "def get_TrainingDF(trainDataFrame, trainFeature):\n",
    "    return trainDataFrame[trainFeature]"
   ]
  },
  {
   "cell_type": "code",
   "execution_count": 119,
   "metadata": {
    "collapsed": false
   },
   "outputs": [],
   "source": [
    "trainDF = pd.read_csv(csvTrainingFile, index_col=False )\n",
    "feature = ['username',  'query_date_year' , 'query_date_month'  ,'query_date_day', 'query_date_weekday'  ]\n",
    "data = pd.get_dummies(get_TrainingDF(trainDF,feature))\n",
    "# data"
   ]
  },
  {
   "cell_type": "markdown",
   "metadata": {},
   "source": [
    "## 2. Target Set"
   ]
  },
  {
   "cell_type": "code",
   "execution_count": 120,
   "metadata": {
    "collapsed": false
   },
   "outputs": [
    {
     "name": "stdout",
     "output_type": "stream",
     "text": [
      "/Users/MH/SourceTreeproject/PredictSheetAction/Python_Prediction/eachUser/TrainingDataSets/FMT_POS_190_Target.csv\n"
     ]
    }
   ],
   "source": [
    "targetDoc = 'FMT_POS_190'\n",
    "# targetDoc = 'report001'\n",
    "\n",
    "csvTargetFileName = '_Target.csv'\n",
    "csvTargetFile = get_CSV_FileName(targetDoc + csvTargetFileName, TrainingDataFolder)\n",
    "targetDF = pd.read_csv(csvTargetFile, index_col=False )\n",
    "target = get_TrainingDF(targetDF, targetDoc)\n",
    "# target "
   ]
  },
  {
   "cell_type": "markdown",
   "metadata": {},
   "source": [
    "## 3. Check DataSets"
   ]
  },
  {
   "cell_type": "code",
   "execution_count": 135,
   "metadata": {
    "collapsed": false
   },
   "outputs": [],
   "source": [
    "def get_TrainingDataShape(trainDataFrame, targetingDataFrame):\n",
    "    print('Fearture Data Size (X): ', trainDataFrame.shape, ', Targeting Data Size (Y): ', targetingDataFrame.shape)"
   ]
  },
  {
   "cell_type": "code",
   "execution_count": 122,
   "metadata": {
    "collapsed": false
   },
   "outputs": [
    {
     "name": "stdout",
     "output_type": "stream",
     "text": [
      "Training Data Size:  (19206, 5) , Targeting Data Size: (19206,)\n"
     ]
    }
   ],
   "source": [
    "get_TrainingDataShape(data, target)"
   ]
  },
  {
   "cell_type": "code",
   "execution_count": 123,
   "metadata": {
    "collapsed": false
   },
   "outputs": [
    {
     "data": {
      "text/html": [
       "<div>\n",
       "<table border=\"1\" class=\"dataframe\">\n",
       "  <thead>\n",
       "    <tr style=\"text-align: right;\">\n",
       "      <th></th>\n",
       "      <th>query_date_year</th>\n",
       "      <th>query_date_month</th>\n",
       "      <th>query_date_day</th>\n",
       "      <th>query_date_weekday</th>\n",
       "      <th>username_mPOS</th>\n",
       "    </tr>\n",
       "  </thead>\n",
       "  <tbody>\n",
       "    <tr>\n",
       "      <th>0</th>\n",
       "      <td>2017</td>\n",
       "      <td>2</td>\n",
       "      <td>10</td>\n",
       "      <td>5</td>\n",
       "      <td>1</td>\n",
       "    </tr>\n",
       "    <tr>\n",
       "      <th>1</th>\n",
       "      <td>2017</td>\n",
       "      <td>2</td>\n",
       "      <td>10</td>\n",
       "      <td>5</td>\n",
       "      <td>1</td>\n",
       "    </tr>\n",
       "    <tr>\n",
       "      <th>2</th>\n",
       "      <td>2017</td>\n",
       "      <td>2</td>\n",
       "      <td>10</td>\n",
       "      <td>5</td>\n",
       "      <td>1</td>\n",
       "    </tr>\n",
       "    <tr>\n",
       "      <th>3</th>\n",
       "      <td>2017</td>\n",
       "      <td>2</td>\n",
       "      <td>10</td>\n",
       "      <td>5</td>\n",
       "      <td>1</td>\n",
       "    </tr>\n",
       "    <tr>\n",
       "      <th>4</th>\n",
       "      <td>2017</td>\n",
       "      <td>2</td>\n",
       "      <td>10</td>\n",
       "      <td>5</td>\n",
       "      <td>1</td>\n",
       "    </tr>\n",
       "  </tbody>\n",
       "</table>\n",
       "</div>"
      ],
      "text/plain": [
       "   query_date_year  query_date_month  query_date_day  query_date_weekday  \\\n",
       "0             2017                 2              10                   5   \n",
       "1             2017                 2              10                   5   \n",
       "2             2017                 2              10                   5   \n",
       "3             2017                 2              10                   5   \n",
       "4             2017                 2              10                   5   \n",
       "\n",
       "   username_mPOS  \n",
       "0              1  \n",
       "1              1  \n",
       "2              1  \n",
       "3              1  \n",
       "4              1  "
      ]
     },
     "execution_count": 123,
     "metadata": {},
     "output_type": "execute_result"
    }
   ],
   "source": [
    "data.head(5)"
   ]
  },
  {
   "cell_type": "code",
   "execution_count": 124,
   "metadata": {
    "collapsed": false
   },
   "outputs": [
    {
     "data": {
      "text/plain": [
       "0    0\n",
       "1    0\n",
       "2    0\n",
       "3    0\n",
       "4    0\n",
       "Name: FMT_POS_190, dtype: int64"
      ]
     },
     "execution_count": 124,
     "metadata": {},
     "output_type": "execute_result"
    }
   ],
   "source": [
    "target.head(5)"
   ]
  },
  {
   "cell_type": "code",
   "execution_count": 126,
   "metadata": {
    "collapsed": false
   },
   "outputs": [
    {
     "name": "stdout",
     "output_type": "stream",
     "text": [
      "Index(['query_date_year', 'query_date_month', 'query_date_day',\n",
      "       'query_date_weekday', 'username_mPOS'],\n",
      "      dtype='object')\n"
     ]
    }
   ],
   "source": [
    "featureHead = data.axes[1]\n",
    "# print(featureHead)"
   ]
  },
  {
   "cell_type": "markdown",
   "metadata": {},
   "source": [
    "## 4. Classify model"
   ]
  },
  {
   "cell_type": "code",
   "execution_count": 138,
   "metadata": {
    "collapsed": true
   },
   "outputs": [],
   "source": [
    "def set_Training_RandomForest(trainDataFrame, targetingDataFrame):\n",
    "    X_train, X_test, y_train, y_test = train_test_split(trainDataFrame, targetingDataFrame, test_size=0.30, random_state=42)\n",
    "    print('Training Data Size: ')\n",
    "    get_TrainingDataShape(X_train, y_train)\n",
    "    print('Test Data Size: ')\n",
    "    get_TrainingDataShape(X_test, y_test)\n",
    "    model = RandomForestClassifier(n_estimators=20)\n",
    "    model.fit(X_train, y_train)\n",
    "    print('Test Model Score: ',model.score(X_test, y_test) )\n",
    "    return model"
   ]
  },
  {
   "cell_type": "code",
   "execution_count": 139,
   "metadata": {
    "collapsed": false
   },
   "outputs": [
    {
     "name": "stdout",
     "output_type": "stream",
     "text": [
      "Training Data Size: \n",
      "Fearture Data Size (X):  (13444, 5) , Targeting Data Size (Y):  (13444,)\n",
      "Test Data Size: \n",
      "Fearture Data Size (X):  (5762, 5) , Targeting Data Size (Y):  (5762,)\n",
      "Test Model Score:  0.972231863936\n"
     ]
    }
   ],
   "source": [
    "model  = set_Training_RandomForest(data, target)"
   ]
  },
  {
   "cell_type": "code",
   "execution_count": 141,
   "metadata": {
    "collapsed": true
   },
   "outputs": [],
   "source": [
    "def get_Date_YearAndMonth(target_year, target_month):\n",
    "    month = Calendar().itermonthdates(target_year,target_month)\n",
    "    allday =[day for day in month if day.month == target_month]\n",
    "    return allday"
   ]
  },
  {
   "cell_type": "code",
   "execution_count": 145,
   "metadata": {
    "collapsed": false
   },
   "outputs": [],
   "source": [
    "allday = get_Date_YearAndMonth(2017,3)"
   ]
  },
  {
   "cell_type": "code",
   "execution_count": 146,
   "metadata": {
    "collapsed": false
   },
   "outputs": [
    {
     "name": "stdout",
     "output_type": "stream",
     "text": [
      "Predic Doc Name: FMT_POS_190\n",
      "2017-01-02  weekday:  1\n",
      "user feature:  username_mPOS  click prob:  [[ 0.78897209  0.21102791]]\n",
      "2017-02-06  weekday:  1\n",
      "user feature:  username_mPOS  click prob:  [[ 0.75230542  0.24769458]]\n",
      "2017-02-22  weekday:  3\n",
      "user feature:  username_mPOS  click prob:  [[ 0.79131463  0.20868537]]\n",
      "2017-03-06  weekday:  1\n",
      "user feature:  username_mPOS  click prob:  [[ 0.70931823  0.29068177]]\n",
      "2017-03-09  weekday:  4\n",
      "user feature:  username_mPOS  click prob:  [[ 0.76952567  0.23047433]]\n",
      "2017-04-11  weekday:  2\n",
      "user feature:  username_mPOS  click prob:  [[ 0.7840344  0.2159656]]\n",
      "2017-04-12  weekday:  3\n",
      "user feature:  username_mPOS  click prob:  [[ 0.59829363  0.40170637]]\n",
      "2017-06-14  weekday:  3\n",
      "user feature:  username_mPOS  click prob:  [[ 0.73139286  0.26860714]]\n",
      "2017-07-11  weekday:  2\n",
      "user feature:  username_mPOS  click prob:  [[ 0.7840344  0.2159656]]\n",
      "2017-07-12  weekday:  3\n",
      "user feature:  username_mPOS  click prob:  [[ 0.59829363  0.40170637]]\n",
      "2017-09-12  weekday:  2\n",
      "user feature:  username_mPOS  click prob:  [[ 0.75745447  0.24254553]]\n",
      "2017-09-13  weekday:  3\n",
      "user feature:  username_mPOS  click prob:  [[ 0.68420593  0.31579407]]\n",
      "2017-10-11  weekday:  3\n",
      "user feature:  username_mPOS  click prob:  [[ 0.64402467  0.35597533]]\n",
      "2017-12-12  weekday:  2\n",
      "user feature:  username_mPOS  click prob:  [[ 0.75745447  0.24254553]]\n",
      "2017-12-13  weekday:  3\n",
      "user feature:  username_mPOS  click prob:  [[ 0.68420593  0.31579407]]\n"
     ]
    }
   ],
   "source": [
    "print(\"Predic Doc Name: \" + targetDoc )\n",
    "ClickDoc_Prob = 0.2\n",
    "for predic_month in range(12):\n",
    "    predic_month = predic_month + 1 \n",
    "    month = Calendar().itermonthdates(2017,predic_month)\n",
    "    allday =[day for day in month if day.month == predic_month]\n",
    "\n",
    "    for day in allday:\n",
    "        query_date_year = 2017\n",
    "        query_date_month = day.month\n",
    "        query_date_day = day.day\n",
    "        query_date_weekday = day.weekday()+1\n",
    "        pre_Data = [query_date_year,query_date_month,query_date_day,query_date_weekday]\n",
    "        \n",
    "        predicAll = 0\n",
    "  \n",
    "        predicData = pre_Data + [1]\n",
    "        doc_predict = model.predict([predicData])\n",
    "        doc_predict_proba = model.predict_proba([predicData])\n",
    "        if (doc_predict_proba[0][1] >= ClickDoc_Prob):\n",
    "            print(day,\" weekday: \", query_date_weekday)\n",
    "            print(\"user feature: \", featureHead[4], \" click prob: \", doc_predict_proba)\n",
    "        if (doc_predict != 0):\n",
    "            print(\"user click: \", featureHead[i+4])\n",
    "            predicAll = predicAll + doc_predict\n",
    "    #     print(\"all user click counter: \",predicAll, \"\\n\")\n"
   ]
  },
  {
   "cell_type": "code",
   "execution_count": 60,
   "metadata": {
    "collapsed": false
   },
   "outputs": [
    {
     "data": {
      "text/plain": [
       "array([[ 0.96961538,  0.03038462]])"
      ]
     },
     "execution_count": 60,
     "metadata": {},
     "output_type": "execute_result"
    }
   ],
   "source": [
    "model.predict_proba([predicData])"
   ]
  },
  {
   "cell_type": "code",
   "execution_count": null,
   "metadata": {
    "collapsed": true
   },
   "outputs": [],
   "source": []
  }
 ],
 "metadata": {
  "anaconda-cloud": {},
  "kernelspec": {
   "display_name": "Python 3",
   "language": "python",
   "name": "python3"
  },
  "language_info": {
   "codemirror_mode": {
    "name": "ipython",
    "version": 3
   },
   "file_extension": ".py",
   "mimetype": "text/x-python",
   "name": "python",
   "nbconvert_exporter": "python",
   "pygments_lexer": "ipython3",
   "version": "3.6.1"
  }
 },
 "nbformat": 4,
 "nbformat_minor": 1
}
