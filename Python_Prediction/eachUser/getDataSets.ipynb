{
 "cells": [
  {
   "cell_type": "code",
   "execution_count": 24,
   "metadata": {
    "collapsed": true
   },
   "outputs": [],
   "source": [
    "import pandas as pd\n",
    "import numpy as np\n",
    "import time\n",
    "from datetime import datetime\n",
    "import sys\n",
    "import csv\n",
    "import os\n",
    "import math"
   ]
  },
  {
   "cell_type": "code",
   "execution_count": 25,
   "metadata": {
    "collapsed": true
   },
   "outputs": [],
   "source": [
    "def check_file_path_exist(csvName):\n",
    "    if not os.path.exists(os.path.dirname(csvName)):\n",
    "        try:\n",
    "            os.makedirs(os.path.dirname(csvName))\n",
    "        except OSError as exc: # Guard against race condition\n",
    "            if exc.errno != errno.EEXIST:\n",
    "                raise"
   ]
  },
  {
   "cell_type": "code",
   "execution_count": 3,
   "metadata": {
    "collapsed": false
   },
   "outputs": [],
   "source": [
    "cwd = os.getcwd()\n",
    "TraingFolderpath = '/TrainingDataSets/'\n",
    "csvTrainingFileName = 'TrainingFeature.csv'\n",
    "csvTrainingFile = cwd + TraingFolderpath + csvTrainingFileName\n",
    "\n",
    "csvTargetFileName = 'Target.csv'\n",
    "csvTargetFile = cwd + TraingFolderpath + csvTargetFileName\n",
    "\n",
    "check_file_path_exist(csvTrainingFile)\n",
    "check_file_path_exist(csvTargetFile)"
   ]
  },
  {
   "cell_type": "markdown",
   "metadata": {},
   "source": [
    "# Training set"
   ]
  },
  {
   "cell_type": "code",
   "execution_count": 5,
   "metadata": {
    "collapsed": false
   },
   "outputs": [],
   "source": [
    "df = pd.read_csv('mPOS_statistic.csv', \n",
    "                       skiprows=1 ,names=['username', 'query_date', 'report_name', 'doc', 'start_date', \n",
    "                                          'end_date', 'is_period','query_date_year','query_date_month','query_date_day','query_date_weekday',\n",
    "                                          'doc_start_date_year', 'doc_start_date_month','doc_start_date_day','doc_start_date_weekday',\n",
    "                                          'doc_end_date_year','doc_end_date_month', 'doc_end_date_day','doc_end_date_weekday'])\n",
    "traingdf=df[['username', 'query_date_year','query_date_month','query_date_day','query_date_weekday']]\n",
    "traingdf.to_csv(csvTrainingFile)\n"
   ]
  },
  {
   "cell_type": "markdown",
   "metadata": {},
   "source": [
    "# Target set"
   ]
  },
  {
   "cell_type": "code",
   "execution_count": 8,
   "metadata": {
    "collapsed": false
   },
   "outputs": [],
   "source": [
    "# each_doc = df['doc'].value_counts(0).axes[0]\n",
    "# doc_df = df['doc']\n",
    "# targetdic = {}\n",
    "\n",
    "# for idx, each_i in enumerate(each_doc):\n",
    "#     if(idx%50==0):\n",
    "#         print(\"Processing: {0:.2f}%\".format(idx*100/len(each_doc)))\n",
    "#     try:\n",
    "#         tmp = []\n",
    "#         for i in range(len(doc_df)):\n",
    "#             if(doc_df[i] == each_i):\n",
    "#                 tmp.append(1)\n",
    "#             else:\n",
    "#                 tmp.append(0) \n",
    "#         targetdic[str(each_i)] = tmp\n",
    "#     except:\n",
    "#         print(\"Unexpected error:\", sys.exc_info())        \n",
    "\n",
    "# targetpd = pd.DataFrame(targetdic)\n",
    "# targetpd.to_csv(csvTargetFile)"
   ]
  },
  {
   "cell_type": "code",
   "execution_count": 27,
   "metadata": {
    "collapsed": false
   },
   "outputs": [
    {
     "data": {
      "text/plain": [
       "20"
      ]
     },
     "execution_count": 27,
     "metadata": {},
     "output_type": "execute_result"
    }
   ],
   "source": [
    "doc_df.index[0]"
   ]
  },
  {
   "cell_type": "code",
   "execution_count": 28,
   "metadata": {
    "collapsed": false
   },
   "outputs": [
    {
     "name": "stdout",
     "output_type": "stream",
     "text": [
      "Processing: 0.00%\n",
      "Processing: 25.64%\n",
      "Processing: 51.28%\n",
      "Processing: 76.92%\n"
     ]
    }
   ],
   "source": [
    "each_doc = df['doc'].value_counts(0).axes[0]\n",
    "doc_df = df['doc']\n",
    "csvEachTargetFileName = '_Target.csv'\n",
    "\n",
    "for idx, each_i in enumerate(each_doc):\n",
    "    if(idx%50==0):\n",
    "        print(\"Processing: {0:.2f}%\".format(idx*100/len(each_doc)))\n",
    "     \n",
    "    tmp = []\n",
    "    targetdic = {}\n",
    "    for i in doc_df.index:\n",
    "        if(doc_df[i] == each_i):\n",
    "            tmp.append(1)\n",
    "        else:\n",
    "            tmp.append(0) \n",
    "    targetdic[str(each_i)] = tmp\n",
    "    targetpd = pd.DataFrame(targetdic)\n",
    "\n",
    "    csvEachTargetFile = cwd + TraingFolderpath +str(each_i)+ csvEachTargetFileName\n",
    "    check_file_path_exist(csvEachTargetFile)\n",
    "    targetpd.to_csv(csvEachTargetFile)\n",
    "#     try:\n",
    "#         tmp = []\n",
    "#         targetdic = {}\n",
    "#         for i in range(len(doc_df)):\n",
    "#             if(doc_df[i] == each_i):\n",
    "#                 tmp.append(1)\n",
    "#             else:\n",
    "#                 tmp.append(0) \n",
    "#         targetdic[str(each_i)] = tmp\n",
    "#         targetpd = pd.DataFrame(targetdic)\n",
    "        \n",
    "#         csvTargetFile = cwd + TraingFolderpath +str(each_i)+ csvTargetFileName\n",
    "#         check_file_path_exist(csvTargetFileName)\n",
    "#         targetpd.to_csv(csvTargetFile)\n",
    "#     except:\n",
    "#         print(\"Unexpected error:\", sys.exc_info())        \n",
    "       "
   ]
  },
  {
   "cell_type": "code",
   "execution_count": 18,
   "metadata": {
    "collapsed": false
   },
   "outputs": [],
   "source": []
  }
 ],
 "metadata": {
  "kernelspec": {
   "display_name": "Python 3",
   "language": "python",
   "name": "python3"
  },
  "language_info": {
   "codemirror_mode": {
    "name": "ipython",
    "version": 3
   },
   "file_extension": ".py",
   "mimetype": "text/x-python",
   "name": "python",
   "nbconvert_exporter": "python",
   "pygments_lexer": "ipython3",
   "version": "3.6.1"
  }
 },
 "nbformat": 4,
 "nbformat_minor": 0
}
