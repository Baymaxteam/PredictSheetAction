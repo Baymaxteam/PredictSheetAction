{
 "cells": [
  {
   "cell_type": "code",
   "execution_count": 33,
   "metadata": {
    "collapsed": true
   },
   "outputs": [],
   "source": [
    "import pandas as pd\n",
    "import numpy as np\n",
    "import time\n",
    "from datetime import datetime\n",
    "import sys\n",
    "import csv\n",
    "import os\n",
    "import math"
   ]
  },
  {
   "cell_type": "code",
   "execution_count": 46,
   "metadata": {
    "collapsed": true
   },
   "outputs": [],
   "source": [
    "def check_file_path_exist(csvName):\n",
    "    if not os.path.exists(os.path.dirname(csvName)):\n",
    "        try:\n",
    "            os.makedirs(os.path.dirname(csvName))\n",
    "        except OSError as exc: # Guard against race condition\n",
    "            if exc.errno != errno.EEXIST:\n",
    "                raise"
   ]
  },
  {
   "cell_type": "code",
   "execution_count": 64,
   "metadata": {
    "collapsed": false
   },
   "outputs": [],
   "source": [
    "cwd = os.getcwd()\n",
    "# UserName = 'mPOS'\n",
    "# UserName = 'CSIS-SIT3'\n",
    "# UserName = 'user1'\n",
    "UserName = 'user4'\n",
    "\n",
    "\n",
    "TraingFolderpath = '/TrainingDataSets/' + UserName + '/'\n",
    "csvTrainingFileName = 'TrainingFeature.csv'\n",
    "csvTrainingFile = cwd + TraingFolderpath + csvTrainingFileName\n",
    "\n",
    "csvTargetFileName = 'Target.csv'\n",
    "csvTargetFile = cwd + TraingFolderpath + csvTargetFileName\n",
    "\n",
    "check_file_path_exist(csvTrainingFile)\n",
    "check_file_path_exist(csvTargetFile)"
   ]
  },
  {
   "cell_type": "markdown",
   "metadata": {},
   "source": [
    "# Training set"
   ]
  },
  {
   "cell_type": "code",
   "execution_count": 65,
   "metadata": {
    "collapsed": false
   },
   "outputs": [],
   "source": [
    "UserDataFolderpath = '/UserData/'\n",
    "\n",
    "csvUserDataFileName = '_statistic.csv'\n",
    "# csvUserDataFileName = 'CSIS-SIT3_statistic.csv'\n",
    "# csvUserDataFileName = 'user1_statistic.csv'\n",
    "# csvUserDataFileName = 'user4_statistic.csv'\n",
    "\n",
    "\n",
    "csvUserDataFile = cwd + UserDataFolderpath + UserName + csvUserDataFileName\n",
    "df = pd.read_csv(csvUserDataFile, \n",
    "                       skiprows=1 ,names=['username', 'query_date', 'report_name', 'doc', 'start_date', \n",
    "                                          'end_date', 'is_period','query_date_year','query_date_month','query_date_day','query_date_weekday',\n",
    "                                          'doc_start_date_year', 'doc_start_date_month','doc_start_date_day','doc_start_date_weekday',\n",
    "                                          'doc_end_date_year','doc_end_date_month', 'doc_end_date_day','doc_end_date_weekday'])\n",
    "traingdf=df[['username','doc', 'query_date_year','query_date_month','query_date_day','query_date_weekday']]\n",
    "traingdf_duplicated = traingdf.duplicated()\n",
    "\n",
    "# remove repeater doc by date\n",
    "traingdf = traingdf.drop_duplicates()\n",
    "traingdf = traingdf.sort_values(by=['query_date_year', 'query_date_month','query_date_day'])\n",
    "\n",
    "traingdf.to_csv(csvTrainingFile)"
   ]
  },
  {
   "cell_type": "code",
   "execution_count": 66,
   "metadata": {
    "collapsed": false
   },
   "outputs": [
    {
     "data": {
      "text/plain": [
       "1439    False\n",
       "1592     True\n",
       "1606     True\n",
       "1630     True\n",
       "1639    False\n",
       "dtype: bool"
      ]
     },
     "execution_count": 66,
     "metadata": {},
     "output_type": "execute_result"
    }
   ],
   "source": [
    "traingdf_duplicated.head(5)"
   ]
  },
  {
   "cell_type": "code",
   "execution_count": 67,
   "metadata": {
    "collapsed": false
   },
   "outputs": [
    {
     "data": {
      "text/html": [
       "<div>\n",
       "<table border=\"1\" class=\"dataframe\">\n",
       "  <thead>\n",
       "    <tr style=\"text-align: right;\">\n",
       "      <th></th>\n",
       "      <th>username</th>\n",
       "      <th>doc</th>\n",
       "      <th>query_date_year</th>\n",
       "      <th>query_date_month</th>\n",
       "      <th>query_date_day</th>\n",
       "      <th>query_date_weekday</th>\n",
       "    </tr>\n",
       "  </thead>\n",
       "  <tbody>\n",
       "    <tr>\n",
       "      <th>1755</th>\n",
       "      <td>user4</td>\n",
       "      <td>ODS_POS_1410</td>\n",
       "      <td>2017</td>\n",
       "      <td>2</td>\n",
       "      <td>15</td>\n",
       "      <td>3</td>\n",
       "    </tr>\n",
       "    <tr>\n",
       "      <th>1798</th>\n",
       "      <td>user4</td>\n",
       "      <td>ODS_POS_1350_E</td>\n",
       "      <td>2017</td>\n",
       "      <td>2</td>\n",
       "      <td>15</td>\n",
       "      <td>3</td>\n",
       "    </tr>\n",
       "    <tr>\n",
       "      <th>1802</th>\n",
       "      <td>user4</td>\n",
       "      <td>ODS_POS_0430</td>\n",
       "      <td>2017</td>\n",
       "      <td>2</td>\n",
       "      <td>15</td>\n",
       "      <td>3</td>\n",
       "    </tr>\n",
       "    <tr>\n",
       "      <th>3013</th>\n",
       "      <td>user4</td>\n",
       "      <td>ODS_POS_1330</td>\n",
       "      <td>2017</td>\n",
       "      <td>2</td>\n",
       "      <td>17</td>\n",
       "      <td>5</td>\n",
       "    </tr>\n",
       "    <tr>\n",
       "      <th>3044</th>\n",
       "      <td>user4</td>\n",
       "      <td>ODS_POS_1090</td>\n",
       "      <td>2017</td>\n",
       "      <td>2</td>\n",
       "      <td>17</td>\n",
       "      <td>5</td>\n",
       "    </tr>\n",
       "  </tbody>\n",
       "</table>\n",
       "</div>"
      ],
      "text/plain": [
       "     username             doc  query_date_year  query_date_month  \\\n",
       "1755    user4    ODS_POS_1410             2017                 2   \n",
       "1798    user4  ODS_POS_1350_E             2017                 2   \n",
       "1802    user4    ODS_POS_0430             2017                 2   \n",
       "3013    user4    ODS_POS_1330             2017                 2   \n",
       "3044    user4    ODS_POS_1090             2017                 2   \n",
       "\n",
       "      query_date_day  query_date_weekday  \n",
       "1755              15                   3  \n",
       "1798              15                   3  \n",
       "1802              15                   3  \n",
       "3013              17                   5  \n",
       "3044              17                   5  "
      ]
     },
     "execution_count": 67,
     "metadata": {},
     "output_type": "execute_result"
    }
   ],
   "source": [
    "traingdf.head(5)"
   ]
  },
  {
   "cell_type": "markdown",
   "metadata": {},
   "source": [
    "# Target set"
   ]
  },
  {
   "cell_type": "code",
   "execution_count": 68,
   "metadata": {
    "collapsed": false
   },
   "outputs": [
    {
     "name": "stdout",
     "output_type": "stream",
     "text": [
      "Processing: 0.00%\n",
      "Processing: 10.64%\n",
      "Processing: 21.28%\n",
      "Processing: 31.91%\n",
      "Processing: 42.55%\n",
      "Processing: 53.19%\n",
      "Processing: 63.83%\n",
      "Processing: 74.47%\n",
      "Processing: 85.11%\n",
      "Processing: 95.74%\n",
      "Processing: End\n"
     ]
    }
   ],
   "source": [
    "each_doc = traingdf['doc'].value_counts(0).axes[0]\n",
    "doc_df = traingdf['doc']\n",
    "csvEachTargetFileName = '_Target.csv'\n",
    "\n",
    "for idx, each_i in enumerate(each_doc):\n",
    "    if(idx%10==0):\n",
    "        print(\"Processing: {0:.2f}%\".format(idx*100/len(each_doc)))\n",
    "        \n",
    "    tmp = []\n",
    "    targetdic = {}\n",
    "    for i in doc_df.index:\n",
    "        if(doc_df[i] == each_i):\n",
    "            tmp.append(1)\n",
    "        else:\n",
    "            tmp.append(0) \n",
    "    targetdic[str(each_i)] = tmp\n",
    "    targetpd = pd.DataFrame(targetdic)\n",
    "\n",
    "    csvEachTargetFile = cwd + TraingFolderpath + str(each_i)+ csvEachTargetFileName\n",
    "    check_file_path_exist(csvEachTargetFile)\n",
    "    targetpd.to_csv(csvEachTargetFile)\n",
    "\n",
    "print(\"Processing: End\")      "
   ]
  },
  {
   "cell_type": "code",
   "execution_count": null,
   "metadata": {
    "collapsed": false
   },
   "outputs": [],
   "source": []
  },
  {
   "cell_type": "code",
   "execution_count": null,
   "metadata": {
    "collapsed": true
   },
   "outputs": [],
   "source": []
  }
 ],
 "metadata": {
  "kernelspec": {
   "display_name": "Python 3",
   "language": "python",
   "name": "python3"
  },
  "language_info": {
   "codemirror_mode": {
    "name": "ipython",
    "version": 3
   },
   "file_extension": ".py",
   "mimetype": "text/x-python",
   "name": "python",
   "nbconvert_exporter": "python",
   "pygments_lexer": "ipython3",
   "version": "3.6.1"
  }
 },
 "nbformat": 4,
 "nbformat_minor": 0
}
