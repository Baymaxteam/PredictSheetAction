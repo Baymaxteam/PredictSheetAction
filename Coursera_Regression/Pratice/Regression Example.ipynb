{
 "cells": [
  {
   "cell_type": "markdown",
   "metadata": {},
   "source": [
    "線性回歸訓練"
   ]
  },
  {
   "cell_type": "code",
   "execution_count": 23,
   "metadata": {
    "collapsed": false
   },
   "outputs": [
    {
     "name": "stdout",
     "output_type": "stream",
     "text": [
      "Coefficients:  [ 2.]\n",
      "Residues:  1.54777103026e-33\n"
     ]
    },
    {
     "name": "stderr",
     "output_type": "stream",
     "text": [
      "/usr/local/lib/python3.6/site-packages/sklearn/utils/deprecation.py:70: DeprecationWarning: Function residues_ is deprecated; ``residues_`` is deprecated and will be removed in 0.19\n",
      "  warnings.warn(msg, category=DeprecationWarning)\n"
     ]
    },
    {
     "data": {
      "text/plain": [
       "array([ 10.])"
      ]
     },
     "execution_count": 23,
     "metadata": {},
     "output_type": "execute_result"
    }
   ],
   "source": [
    "import numpy as np\n",
    "from sklearn import linear_model\n",
    "\n",
    "# 宣告資料\n",
    "X = [[1],[2],[3],[4]]\n",
    "y = [2, 4, 6, 8]\n",
    "\n",
    "# 建立及訓練模型\n",
    "regr = linear_model.LinearRegression()\n",
    "regr.fit(X, y)\n",
    "\n",
    "# 看看訓練出來的係數\n",
    "print('Coefficients: ', regr.coef_ )\n",
    "print('Residues: ', regr.residues_ )\n",
    "\n",
    "# 用模型來預測一筆新的資料看看\n",
    "regr.predict(5)\n",
    "# >>> array([ 10.])"
   ]
  },
  {
   "cell_type": "markdown",
   "metadata": {},
   "source": [
    "邏輯回歸訓練"
   ]
  },
  {
   "cell_type": "code",
   "execution_count": 24,
   "metadata": {
    "collapsed": false
   },
   "outputs": [
    {
     "name": "stdout",
     "output_type": "stream",
     "text": [
      "Coefficients:  [[-0.38626051]]\n",
      "intercept:  [ 0.46757953]\n",
      "n_iter:  [3]\n"
     ]
    },
    {
     "data": {
      "text/plain": [
       "array([1])"
      ]
     },
     "execution_count": 24,
     "metadata": {},
     "output_type": "execute_result"
    }
   ],
   "source": [
    "import numpy as np\n",
    "from sklearn import linear_model\n",
    "\n",
    "# 宣告資料\n",
    "X = [[1],[2],[3],[4]]\n",
    "y = [1, 1, 0, 0]\n",
    "\n",
    "# 建立及訓練模型\n",
    "regr = linear_model.LogisticRegression()\n",
    "regr.fit(X, y)\n",
    "\n",
    "print('Coefficients: ', regr.coef_ )\n",
    "print('intercept: ', regr.intercept_ )\n",
    "print('n_iter: ', regr.n_iter_ )\n",
    " \n",
    "\n",
    "# 用模型來預測一筆新的資料看看\n",
    "regr.predict(0)\n",
    "# >>> array([ 0.])\n"
   ]
  },
  {
   "cell_type": "code",
   "execution_count": null,
   "metadata": {
    "collapsed": true
   },
   "outputs": [],
   "source": []
  }
 ],
 "metadata": {
  "kernelspec": {
   "display_name": "Python 3",
   "language": "python",
   "name": "python3"
  },
  "language_info": {
   "codemirror_mode": {
    "name": "ipython",
    "version": 3
   },
   "file_extension": ".py",
   "mimetype": "text/x-python",
   "name": "python",
   "nbconvert_exporter": "python",
   "pygments_lexer": "ipython3",
   "version": "3.6.1"
  }
 },
 "nbformat": 4,
 "nbformat_minor": 0
}
