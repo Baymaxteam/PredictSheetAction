{
 "cells": [
  {
   "cell_type": "code",
   "execution_count": 4,
   "metadata": {
    "collapsed": true
   },
   "outputs": [],
   "source": [
    "import pandas as pd\n",
    "import numpy as np\n",
    "import time\n",
    "from datetime import datetime\n",
    "import sys\n",
    "import csv\n",
    "import os"
   ]
  },
  {
   "cell_type": "code",
   "execution_count": 8,
   "metadata": {
    "collapsed": true
   },
   "outputs": [],
   "source": [
    "df = pd.read_csv('out.csv', skiprows=1 ,names=['username', 'query_date', 'report_name', 'doc', 'start_date', 'end_date', 'is_period'])\n",
    "# df = pd.read_csv('out.csv')"
   ]
  },
  {
   "cell_type": "code",
   "execution_count": 9,
   "metadata": {},
   "outputs": [
    {
     "data": {
      "text/html": [
       "<div>\n",
       "<table border=\"1\" class=\"dataframe\">\n",
       "  <thead>\n",
       "    <tr style=\"text-align: right;\">\n",
       "      <th></th>\n",
       "      <th>username</th>\n",
       "      <th>query_date</th>\n",
       "      <th>report_name</th>\n",
       "      <th>doc</th>\n",
       "      <th>start_date</th>\n",
       "      <th>end_date</th>\n",
       "      <th>is_period</th>\n",
       "    </tr>\n",
       "  </thead>\n",
       "  <tbody>\n",
       "    <tr>\n",
       "      <th>0</th>\n",
       "      <td>001713</td>\n",
       "      <td>2017-02-10</td>\n",
       "      <td>001713</td>\n",
       "      <td>ODS_UNB_0460</td>\n",
       "      <td>2016-08-31</td>\n",
       "      <td>2016-08-31</td>\n",
       "      <td>True</td>\n",
       "    </tr>\n",
       "    <tr>\n",
       "      <th>1</th>\n",
       "      <td>calvin</td>\n",
       "      <td>2017-02-10</td>\n",
       "      <td>calvin</td>\n",
       "      <td>ODS_PA_0500_P</td>\n",
       "      <td>2016-11-30</td>\n",
       "      <td>2016-11-30</td>\n",
       "      <td>True</td>\n",
       "    </tr>\n",
       "    <tr>\n",
       "      <th>2</th>\n",
       "      <td>calvin</td>\n",
       "      <td>2017-02-10</td>\n",
       "      <td>calvin</td>\n",
       "      <td>ODS_FIN_0573</td>\n",
       "      <td>NaN</td>\n",
       "      <td>9999-12-31</td>\n",
       "      <td>True</td>\n",
       "    </tr>\n",
       "    <tr>\n",
       "      <th>3</th>\n",
       "      <td>user1</td>\n",
       "      <td>2017-02-10</td>\n",
       "      <td>user1</td>\n",
       "      <td>ODS_POS_0990</td>\n",
       "      <td>NaN</td>\n",
       "      <td>9999-12-31</td>\n",
       "      <td>True</td>\n",
       "    </tr>\n",
       "    <tr>\n",
       "      <th>4</th>\n",
       "      <td>user1</td>\n",
       "      <td>2017-02-10</td>\n",
       "      <td>user1</td>\n",
       "      <td>ODS_POS_0990</td>\n",
       "      <td>NaN</td>\n",
       "      <td>9999-12-31</td>\n",
       "      <td>True</td>\n",
       "    </tr>\n",
       "  </tbody>\n",
       "</table>\n",
       "</div>"
      ],
      "text/plain": [
       "  username  query_date report_name            doc  start_date    end_date  \\\n",
       "0   001713  2017-02-10      001713   ODS_UNB_0460  2016-08-31  2016-08-31   \n",
       "1   calvin  2017-02-10      calvin  ODS_PA_0500_P  2016-11-30  2016-11-30   \n",
       "2   calvin  2017-02-10      calvin   ODS_FIN_0573         NaN  9999-12-31   \n",
       "3    user1  2017-02-10       user1   ODS_POS_0990         NaN  9999-12-31   \n",
       "4    user1  2017-02-10       user1   ODS_POS_0990         NaN  9999-12-31   \n",
       "\n",
       "  is_period  \n",
       "0      True  \n",
       "1      True  \n",
       "2      True  \n",
       "3      True  \n",
       "4      True  "
      ]
     },
     "execution_count": 9,
     "metadata": {},
     "output_type": "execute_result"
    }
   ],
   "source": [
    "df.head()"
   ]
  },
  {
   "cell_type": "code",
   "execution_count": 10,
   "metadata": {},
   "outputs": [
    {
     "data": {
      "text/plain": [
       "(32323, 7)"
      ]
     },
     "execution_count": 10,
     "metadata": {},
     "output_type": "execute_result"
    }
   ],
   "source": [
    "df.shape"
   ]
  },
  {
   "cell_type": "code",
   "execution_count": 11,
   "metadata": {
    "collapsed": true
   },
   "outputs": [],
   "source": [
    "# for total data\n",
    "cwd = os.getcwd()\n",
    "TotalFolderpath = '/Total_statistic/'\n",
    "folderName = cwd + TotalFolderpath\n",
    "\n",
    "if not os.path.exists(folderName):\n",
    "    os.makedirs(folderName)\n",
    "\n",
    "user = df['username'].value_counts(0)\n",
    "doc = df['doc'].value_counts(0)\n",
    "user_query_date = df['query_date'].value_counts(0)\n",
    "\n",
    "user.to_csv(folderName + 'user_statistic.csv')\n",
    "doc.to_csv(folderName + 'doc_statistic.csv')\n",
    "user_query_date.to_csv(folderName + 'query_date_statistic.csv')"
   ]
  },
  {
   "cell_type": "code",
   "execution_count": 15,
   "metadata": {},
   "outputs": [],
   "source": [
    "# for different type data\n",
    "each_user = user.axes[0]\n",
    "each_doc = doc.axes[0]"
   ]
  },
  {
   "cell_type": "code",
   "execution_count": 18,
   "metadata": {},
   "outputs": [],
   "source": [
    "def check_file_path_exist(csvName):\n",
    "    if not os.path.exists(os.path.dirname(csvName)):\n",
    "        try:\n",
    "            os.makedirs(os.path.dirname(csvName))\n",
    "        except OSError as exc: # Guard against race condition\n",
    "            if exc.errno != errno.EEXIST:\n",
    "                raise"
   ]
  },
  {
   "cell_type": "code",
   "execution_count": 22,
   "metadata": {},
   "outputs": [],
   "source": [
    "# for user type\n",
    "cwd = os.getcwd()\n",
    "UserFolderpath = '/User_statistic/'\n",
    "UserClinkFolderpath = '/UserClick_statistic/'\n",
    "csvFinalName = '_statistic.csv'\n",
    "\n",
    "for user_i in each_user:\n",
    "    \n",
    "    csvName = cwd + UserFolderpath + str(user_i) + csvFinalName\n",
    "    csvClickName = cwd + UserClinkFolderpath + str(user_i) + csvFinalName\n",
    "    check_file_path_exist(csvName)\n",
    "    check_file_path_exist(csvClickName)\n",
    "    \n",
    "    userDF = df.loc[df['username'] == user_i]\n",
    "    userDF_counter = userDF['doc'].value_counts(0)\n",
    "#     print(userDF_counter)\n",
    "\n",
    "    userDF.to_csv(csvName)\n",
    "    userDF_counter.to_csv(csvClickName)"
   ]
  },
  {
   "cell_type": "code",
   "execution_count": 33,
   "metadata": {},
   "outputs": [],
   "source": [
    "# for doc type\n",
    "DocFolderpath = '/Doc_statistic/'\n",
    "DocClickFolderpath = '/DocClick_statistic/'\n",
    "\n",
    "for doc_i in each_doc:\n",
    "    \n",
    "    csvName = cwd + DocFolderpath + str(doc_i) + csvFinalName\n",
    "    csvClickName = cwd + DocClickFolderpath + str(doc_i) + csvFinalName\n",
    "    check_file_path_exist(csvName)\n",
    "    check_file_path_exist(csvClickName)\n",
    "    \n",
    "    docDF = df.loc[df['doc'] == doc_i]\n",
    "#     print(doc_i)\n",
    "    docDF_counter = docDF['username'].value_counts(0)\n",
    "#     print(doc_i)\n",
    "    docDF.to_csv(csvName)\n",
    "    docDF_counter.to_csv(csvClickName)"
   ]
  },
  {
   "cell_type": "code",
   "execution_count": 28,
   "metadata": {
    "scrolled": true
   },
   "outputs": [
    {
     "data": {
      "text/plain": [
       "'000606'"
      ]
     },
     "execution_count": 28,
     "metadata": {},
     "output_type": "execute_result"
    }
   ],
   "source": []
  },
  {
   "cell_type": "code",
   "execution_count": null,
   "metadata": {
    "collapsed": true
   },
   "outputs": [],
   "source": []
  }
 ],
 "metadata": {
  "kernelspec": {
   "display_name": "Python 3",
   "language": "python",
   "name": "python3"
  },
  "language_info": {
   "codemirror_mode": {
    "name": "ipython",
    "version": 3
   },
   "file_extension": ".py",
   "mimetype": "text/x-python",
   "name": "python",
   "nbconvert_exporter": "python",
   "pygments_lexer": "ipython3",
   "version": "3.6.1"
  }
 },
 "nbformat": 4,
 "nbformat_minor": 2
}
