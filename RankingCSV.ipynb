{
 "cells": [
  {
   "cell_type": "code",
   "execution_count": 328,
   "metadata": {
    "collapsed": true
   },
   "outputs": [],
   "source": [
    "import pandas as pd\n",
    "import numpy as np\n",
    "import time\n",
    "from datetime import datetime\n",
    "import sys\n",
    "import csv\n",
    "import os"
   ]
  },
  {
   "cell_type": "code",
   "execution_count": 329,
   "metadata": {},
   "outputs": [],
   "source": [
    "df = pd.read_csv('out.csv', skiprows=1 ,names=['username', 'query_date', 'report_name', 'doc', 'start_date', 'end_date', 'is_period'])\n",
    "# df = pd.read_csv('out.csv')"
   ]
  },
  {
   "cell_type": "code",
   "execution_count": 330,
   "metadata": {},
   "outputs": [
    {
     "data": {
      "text/html": [
       "<div>\n",
       "<table border=\"1\" class=\"dataframe\">\n",
       "  <thead>\n",
       "    <tr style=\"text-align: right;\">\n",
       "      <th></th>\n",
       "      <th>username</th>\n",
       "      <th>query_date</th>\n",
       "      <th>report_name</th>\n",
       "      <th>doc</th>\n",
       "      <th>start_date</th>\n",
       "      <th>end_date</th>\n",
       "      <th>is_period</th>\n",
       "    </tr>\n",
       "  </thead>\n",
       "  <tbody>\n",
       "    <tr>\n",
       "      <th>0</th>\n",
       "      <td>001713</td>\n",
       "      <td>2017-02-10</td>\n",
       "      <td>001713</td>\n",
       "      <td>ODS_UNB_0460</td>\n",
       "      <td>2016-08-31</td>\n",
       "      <td>2016-08-31</td>\n",
       "      <td>True</td>\n",
       "    </tr>\n",
       "    <tr>\n",
       "      <th>1</th>\n",
       "      <td>calvin</td>\n",
       "      <td>2017-02-10</td>\n",
       "      <td>calvin</td>\n",
       "      <td>ODS_PA_0500_P</td>\n",
       "      <td>2016-11-30</td>\n",
       "      <td>2016-11-30</td>\n",
       "      <td>True</td>\n",
       "    </tr>\n",
       "    <tr>\n",
       "      <th>2</th>\n",
       "      <td>calvin</td>\n",
       "      <td>2017-02-10</td>\n",
       "      <td>calvin</td>\n",
       "      <td>ODS_FIN_0573</td>\n",
       "      <td>NaN</td>\n",
       "      <td>9999-12-31</td>\n",
       "      <td>True</td>\n",
       "    </tr>\n",
       "    <tr>\n",
       "      <th>3</th>\n",
       "      <td>user1</td>\n",
       "      <td>2017-02-10</td>\n",
       "      <td>user1</td>\n",
       "      <td>ODS_POS_0990</td>\n",
       "      <td>NaN</td>\n",
       "      <td>9999-12-31</td>\n",
       "      <td>True</td>\n",
       "    </tr>\n",
       "    <tr>\n",
       "      <th>4</th>\n",
       "      <td>user1</td>\n",
       "      <td>2017-02-10</td>\n",
       "      <td>user1</td>\n",
       "      <td>ODS_POS_0990</td>\n",
       "      <td>NaN</td>\n",
       "      <td>9999-12-31</td>\n",
       "      <td>True</td>\n",
       "    </tr>\n",
       "  </tbody>\n",
       "</table>\n",
       "</div>"
      ],
      "text/plain": [
       "  username  query_date report_name            doc  start_date    end_date  \\\n",
       "0   001713  2017-02-10      001713   ODS_UNB_0460  2016-08-31  2016-08-31   \n",
       "1   calvin  2017-02-10      calvin  ODS_PA_0500_P  2016-11-30  2016-11-30   \n",
       "2   calvin  2017-02-10      calvin   ODS_FIN_0573         NaN  9999-12-31   \n",
       "3    user1  2017-02-10       user1   ODS_POS_0990         NaN  9999-12-31   \n",
       "4    user1  2017-02-10       user1   ODS_POS_0990         NaN  9999-12-31   \n",
       "\n",
       "  is_period  \n",
       "0      True  \n",
       "1      True  \n",
       "2      True  \n",
       "3      True  \n",
       "4      True  "
      ]
     },
     "execution_count": 330,
     "metadata": {},
     "output_type": "execute_result"
    }
   ],
   "source": [
    "df.head()"
   ]
  },
  {
   "cell_type": "code",
   "execution_count": 331,
   "metadata": {},
   "outputs": [
    {
     "data": {
      "text/plain": [
       "(32323, 7)"
      ]
     },
     "execution_count": 331,
     "metadata": {},
     "output_type": "execute_result"
    }
   ],
   "source": [
    "df.shape"
   ]
  },
  {
   "cell_type": "code",
   "execution_count": 338,
   "metadata": {},
   "outputs": [],
   "source": [
    "cwd = os.getcwd()\n",
    "TotalFolderpath = '/Total_statistic/'\n",
    "folderName = cwd + TotalFolderpath\n",
    "\n",
    "if not os.path.exists(folderName):\n",
    "    os.makedirs(folderName)\n",
    "\n",
    "user = df['username'].value_counts(0)\n",
    "doc = df['doc'].value_counts(0)\n",
    "user_query_date = df['query_date'].value_counts(0)\n",
    "\n",
    "user.to_csv(folderName + 'user_statistic.csv')\n",
    "doc.to_csv(folderName + 'doc_statistic.csv')\n",
    "user_query_date.to_csv(folderName + 'query_date_statistic.csv')"
   ]
  },
  {
   "cell_type": "code",
   "execution_count": 339,
   "metadata": {},
   "outputs": [],
   "source": [
    "each_user = user.axes[0]\n",
    "each_doc = doc.axes[0]"
   ]
  },
  {
   "cell_type": "code",
   "execution_count": 340,
   "metadata": {},
   "outputs": [],
   "source": [
    "cwd = os.getcwd()\n",
    "UserFolderpath = '/User_statistic/'\n",
    "csvFinalName = '_statistic.csv'\n",
    "for user_i in each_user:\n",
    "    userDF = df.loc[df['username'] == user_i]\n",
    "    csvName = cwd + UserFolderpath + str(user_i) + csvFinalName\n",
    "\n",
    "    # check folder exist\n",
    "    if not os.path.exists(os.path.dirname(csvName)):\n",
    "        try:\n",
    "            os.makedirs(os.path.dirname(csvName))\n",
    "        except OSError as exc: # Guard against race condition\n",
    "            if exc.errno != errno.EEXIST:\n",
    "                raise\n",
    "\n",
    "    userDF.to_csv(csvName)"
   ]
  },
  {
   "cell_type": "code",
   "execution_count": 341,
   "metadata": {},
   "outputs": [],
   "source": [
    "DocFolderpath = '/Doc_statistic/'\n",
    "for doc_i in each_user:\n",
    "    docDF = df.loc[df['doc'] == doc_i]\n",
    "    csvName = cwd + DocFolderpath + str(doc_i) + csvFinalName\n",
    "\n",
    "    # check folder exist\n",
    "    if not os.path.exists(os.path.dirname(csvName)):\n",
    "        try:\n",
    "            os.makedirs(os.path.dirname(csvName))\n",
    "        except OSError as exc: # Guard against race condition\n",
    "            if exc.errno != errno.EEXIST:\n",
    "                raise\n",
    "\n",
    "    docDF.to_csv(csvName )"
   ]
  },
  {
   "cell_type": "code",
   "execution_count": 336,
   "metadata": {
    "scrolled": true
   },
   "outputs": [
    {
     "data": {
      "text/plain": [
       "'/usr/local/bin/UserPredic/Total_statistic/'"
      ]
     },
     "execution_count": 336,
     "metadata": {},
     "output_type": "execute_result"
    }
   ],
   "source": []
  }
 ],
 "metadata": {
  "kernelspec": {
   "display_name": "Python 3",
   "language": "python",
   "name": "python3"
  },
  "language_info": {
   "codemirror_mode": {
    "name": "ipython",
    "version": 3
   },
   "file_extension": ".py",
   "mimetype": "text/x-python",
   "name": "python",
   "nbconvert_exporter": "python",
   "pygments_lexer": "ipython3",
   "version": "3.6.1"
  }
 },
 "nbformat": 4,
 "nbformat_minor": 2
}
