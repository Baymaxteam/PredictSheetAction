{
 "cells": [
  {
   "cell_type": "code",
   "execution_count": 1,
   "metadata": {
    "collapsed": true
   },
   "outputs": [],
   "source": [
    "import pandas as pd\n",
    "import numpy as np\n",
    "import time\n",
    "from datetime import datetime\n",
    "import sys\n",
    "import csv\n",
    "import os\n",
    "import math"
   ]
  },
  {
   "cell_type": "code",
   "execution_count": 2,
   "metadata": {
    "collapsed": true
   },
   "outputs": [],
   "source": [
    "def check_file_path_exist(csvName):\n",
    "    if not os.path.exists(os.path.dirname(csvName)):\n",
    "        try:\n",
    "            os.makedirs(os.path.dirname(csvName))\n",
    "        except OSError as exc: # Guard against race condition\n",
    "            if exc.errno != errno.EEXIST:\n",
    "                raise"
   ]
  },
  {
   "cell_type": "code",
   "execution_count": 7,
   "metadata": {
    "collapsed": false
   },
   "outputs": [],
   "source": [
    "cwd = os.getcwd()\n",
    "TraingFolderpath = '/TrainingDataSets/'\n",
    "csvTrainingFileName = 'TrainingFeature.csv'\n",
    "csvTrainingFile = cwd + TraingFolderpath + csvTrainingFileName\n",
    "\n",
    "csvTargetFileName = 'Target.csv'\n",
    "csvTargetFile = cwd + TraingFolderpath + csvTargetFileName\n",
    "\n",
    "check_file_path_exist(csvTrainingFile)\n",
    "check_file_path_exist(csvTargetFile)"
   ]
  },
  {
   "cell_type": "markdown",
   "metadata": {},
   "source": [
    "# Training set"
   ]
  },
  {
   "cell_type": "code",
   "execution_count": 4,
   "metadata": {
    "collapsed": false
   },
   "outputs": [],
   "source": [
    "df = pd.read_csv('prase_out.csv', \n",
    "                       skiprows=1 ,names=['username', 'query_date', 'report_name', 'doc', 'start_date', \n",
    "                                          'end_date', 'is_period','query_date_year','query_date_month','query_date_day','query_date_weekday',\n",
    "                                          'doc_start_date_year', 'doc_start_date_month','doc_start_date_day','doc_start_date_weekday',\n",
    "                                          'doc_end_date_year','doc_end_date_month', 'doc_end_date_day','doc_end_date_weekday'])\n",
    "traingdf=df[['username', 'query_date_year','query_date_month','query_date_day','query_date_weekday']]\n",
    "traingdf.to_csv(csvTrainingFile)\n"
   ]
  },
  {
   "cell_type": "markdown",
   "metadata": {},
   "source": [
    "# Target set"
   ]
  },
  {
   "cell_type": "code",
   "execution_count": 10,
   "metadata": {
    "collapsed": false
   },
   "outputs": [
    {
     "name": "stdout",
     "output_type": "stream",
     "text": [
      "Processing: 0.00%\n",
      "Processing: 1.63%\n",
      "Processing: 3.26%\n",
      "Processing: 4.89%\n",
      "Processing: 6.53%\n",
      "Processing: 8.16%\n",
      "Processing: 9.79%\n",
      "Processing: 11.42%\n",
      "Processing: 13.05%\n",
      "Processing: 14.68%\n",
      "Processing: 16.31%\n",
      "Processing: 17.94%\n",
      "Processing: 19.58%\n",
      "Processing: 21.21%\n",
      "Processing: 22.84%\n",
      "Processing: 24.47%\n",
      "Processing: 26.10%\n",
      "Processing: 27.73%\n",
      "Processing: 29.36%\n",
      "Processing: 31.00%\n",
      "Processing: 32.63%\n",
      "Processing: 34.26%\n",
      "Processing: 35.89%\n",
      "Processing: 37.52%\n",
      "Processing: 39.15%\n",
      "Processing: 40.78%\n",
      "Processing: 42.41%\n",
      "Processing: 44.05%\n",
      "Processing: 45.68%\n",
      "Processing: 47.31%\n",
      "Processing: 48.94%\n",
      "Processing: 50.57%\n",
      "Processing: 52.20%\n",
      "Processing: 53.83%\n",
      "Processing: 55.46%\n",
      "Processing: 57.10%\n",
      "Processing: 58.73%\n",
      "Processing: 60.36%\n",
      "Processing: 61.99%\n",
      "Processing: 63.62%\n",
      "Processing: 65.25%\n",
      "Processing: 66.88%\n",
      "Processing: 68.52%\n",
      "Processing: 70.15%\n",
      "Processing: 71.78%\n",
      "Processing: 73.41%\n",
      "Processing: 75.04%\n",
      "Processing: 76.67%\n",
      "Processing: 78.30%\n",
      "Processing: 79.93%\n",
      "Processing: 81.57%\n",
      "Processing: 83.20%\n",
      "Processing: 84.83%\n",
      "Processing: 86.46%\n",
      "Processing: 88.09%\n",
      "Processing: 89.72%\n",
      "Processing: 91.35%\n",
      "Processing: 92.99%\n",
      "Processing: 94.62%\n",
      "Processing: 96.25%\n",
      "Processing: 97.88%\n",
      "Processing: 99.51%\n"
     ]
    },
    {
     "ename": "TypeError",
     "evalue": "expected str, bytes or os.PathLike object, not DataFrame",
     "output_type": "error",
     "traceback": [
      "\u001b[0;31m---------------------------------------------------------------------------\u001b[0m",
      "\u001b[0;31mTypeError\u001b[0m                                 Traceback (most recent call last)",
      "\u001b[0;32m<ipython-input-10-c08265d20fb9>\u001b[0m in \u001b[0;36m<module>\u001b[0;34m()\u001b[0m\n\u001b[1;32m     17\u001b[0m \u001b[0;34m\u001b[0m\u001b[0m\n\u001b[1;32m     18\u001b[0m \u001b[0mtargetdf\u001b[0m \u001b[0;34m=\u001b[0m \u001b[0mpd\u001b[0m\u001b[0;34m.\u001b[0m\u001b[0mDataFrame\u001b[0m\u001b[0;34m(\u001b[0m\u001b[0mtargetdic\u001b[0m\u001b[0;34m)\u001b[0m\u001b[0;34m\u001b[0m\u001b[0m\n\u001b[0;32m---> 19\u001b[0;31m \u001b[0mtargetdf\u001b[0m\u001b[0;34m.\u001b[0m\u001b[0mto_csv\u001b[0m\u001b[0;34m(\u001b[0m\u001b[0mtargetdf\u001b[0m\u001b[0;34m)\u001b[0m\u001b[0;34m\u001b[0m\u001b[0m\n\u001b[0m",
      "\u001b[0;32m/usr/local/lib/python3.6/site-packages/pandas/core/frame.py\u001b[0m in \u001b[0;36mto_csv\u001b[0;34m(self, path_or_buf, sep, na_rep, float_format, columns, header, index, index_label, mode, encoding, compression, quoting, quotechar, line_terminator, chunksize, tupleize_cols, date_format, doublequote, escapechar, decimal)\u001b[0m\n\u001b[1;32m   1381\u001b[0m                                      \u001b[0mdoublequote\u001b[0m\u001b[0;34m=\u001b[0m\u001b[0mdoublequote\u001b[0m\u001b[0;34m,\u001b[0m\u001b[0;34m\u001b[0m\u001b[0m\n\u001b[1;32m   1382\u001b[0m                                      escapechar=escapechar, decimal=decimal)\n\u001b[0;32m-> 1383\u001b[0;31m         \u001b[0mformatter\u001b[0m\u001b[0;34m.\u001b[0m\u001b[0msave\u001b[0m\u001b[0;34m(\u001b[0m\u001b[0;34m)\u001b[0m\u001b[0;34m\u001b[0m\u001b[0m\n\u001b[0m\u001b[1;32m   1384\u001b[0m \u001b[0;34m\u001b[0m\u001b[0m\n\u001b[1;32m   1385\u001b[0m         \u001b[0;32mif\u001b[0m \u001b[0mpath_or_buf\u001b[0m \u001b[0;32mis\u001b[0m \u001b[0;32mNone\u001b[0m\u001b[0;34m:\u001b[0m\u001b[0;34m\u001b[0m\u001b[0m\n",
      "\u001b[0;32m/usr/local/lib/python3.6/site-packages/pandas/formats/format.py\u001b[0m in \u001b[0;36msave\u001b[0;34m(self)\u001b[0m\n\u001b[1;32m   1458\u001b[0m             f = _get_handle(self.path_or_buf, self.mode,\n\u001b[1;32m   1459\u001b[0m                             \u001b[0mencoding\u001b[0m\u001b[0;34m=\u001b[0m\u001b[0mself\u001b[0m\u001b[0;34m.\u001b[0m\u001b[0mencoding\u001b[0m\u001b[0;34m,\u001b[0m\u001b[0;34m\u001b[0m\u001b[0m\n\u001b[0;32m-> 1460\u001b[0;31m                             compression=self.compression)\n\u001b[0m\u001b[1;32m   1461\u001b[0m             \u001b[0mclose\u001b[0m \u001b[0;34m=\u001b[0m \u001b[0;32mTrue\u001b[0m\u001b[0;34m\u001b[0m\u001b[0m\n\u001b[1;32m   1462\u001b[0m \u001b[0;34m\u001b[0m\u001b[0m\n",
      "\u001b[0;32m/usr/local/lib/python3.6/site-packages/pandas/io/common.py\u001b[0m in \u001b[0;36m_get_handle\u001b[0;34m(path, mode, encoding, compression, memory_map)\u001b[0m\n\u001b[1;32m    330\u001b[0m                 \u001b[0mf\u001b[0m \u001b[0;34m=\u001b[0m \u001b[0mopen\u001b[0m\u001b[0;34m(\u001b[0m\u001b[0mpath\u001b[0m\u001b[0;34m,\u001b[0m \u001b[0mmode\u001b[0m\u001b[0;34m,\u001b[0m \u001b[0mencoding\u001b[0m\u001b[0;34m=\u001b[0m\u001b[0mencoding\u001b[0m\u001b[0;34m)\u001b[0m\u001b[0;34m\u001b[0m\u001b[0m\n\u001b[1;32m    331\u001b[0m             \u001b[0;32melse\u001b[0m\u001b[0;34m:\u001b[0m\u001b[0;34m\u001b[0m\u001b[0m\n\u001b[0;32m--> 332\u001b[0;31m                 \u001b[0mf\u001b[0m \u001b[0;34m=\u001b[0m \u001b[0mopen\u001b[0m\u001b[0;34m(\u001b[0m\u001b[0mpath\u001b[0m\u001b[0;34m,\u001b[0m \u001b[0mmode\u001b[0m\u001b[0;34m,\u001b[0m \u001b[0merrors\u001b[0m\u001b[0;34m=\u001b[0m\u001b[0;34m'replace'\u001b[0m\u001b[0;34m)\u001b[0m\u001b[0;34m\u001b[0m\u001b[0m\n\u001b[0m\u001b[1;32m    333\u001b[0m         \u001b[0;32melse\u001b[0m\u001b[0;34m:\u001b[0m\u001b[0;34m\u001b[0m\u001b[0m\n\u001b[1;32m    334\u001b[0m             \u001b[0mf\u001b[0m \u001b[0;34m=\u001b[0m \u001b[0mopen\u001b[0m\u001b[0;34m(\u001b[0m\u001b[0mpath\u001b[0m\u001b[0;34m,\u001b[0m \u001b[0mmode\u001b[0m\u001b[0;34m)\u001b[0m\u001b[0;34m\u001b[0m\u001b[0m\n",
      "\u001b[0;31mTypeError\u001b[0m: expected str, bytes or os.PathLike object, not DataFrame"
     ]
    }
   ],
   "source": [
    "each_doc = df['doc'].value_counts(0).axes[0]\n",
    "doc_df = df['doc']\n",
    "targetdic = {}\n",
    "\n",
    "for idx, each_i in enumerate(each_doc):\n",
    "    if(idx%50==0):\n",
    "        print(\"Processing: {0:.2f}%\".format(idx*100/len(each_doc)))\n",
    "    try:\n",
    "        tmp = []\n",
    "        for i in range(len(doc_df)):\n",
    "            if(doc_df[i] == each_i):\n",
    "                tmp.append(1)\n",
    "            else:\n",
    "                tmp.append(0) \n",
    "        targetdic[str(each_i)] = tmp\n",
    "    except:\n",
    "        print(\"Unexpected error:\", sys.exc_info())        \n",
    "\n",
    "targetpd = pd.DataFrame(targetdic)\n",
    "targetpd.to_csv(csvTargetFile)"
   ]
  },
  {
   "cell_type": "code",
   "execution_count": 8,
   "metadata": {
    "collapsed": false
   },
   "outputs": [
    {
     "name": "stdout",
     "output_type": "stream",
     "text": [
      "Processing: 0.00%\n",
      "Processing: 8.16%\n",
      "Processing: 16.31%\n",
      "Processing: 24.47%\n",
      "Processing: 32.63%\n",
      "Processing: 40.78%\n",
      "Processing: 48.94%\n",
      "Processing: 57.10%\n",
      "Processing: 65.25%\n",
      "Processing: 73.41%\n",
      "Processing: 81.57%\n",
      "Processing: 89.72%\n",
      "Processing: 97.88%\n"
     ]
    }
   ],
   "source": [
    "each_doc = df['doc'].value_counts(0).axes[0]\n",
    "doc_df = df['doc']\n",
    "csvEachTargetFileName = '_Target.csv'\n",
    "\n",
    "for idx, each_i in enumerate(each_doc):\n",
    "    if(idx%50==0):\n",
    "        print(\"Processing: {0:.2f}%\".format(idx*100/len(each_doc)))\n",
    "     \n",
    "    tmp = []\n",
    "    targetdic = {}\n",
    "    for i in range(len(doc_df)):\n",
    "        if(doc_df[i] == each_i):\n",
    "            tmp.append(1)\n",
    "        else:\n",
    "            tmp.append(0) \n",
    "    targetdic[str(each_i)] = tmp\n",
    "    targetpd = pd.DataFrame(targetdic)\n",
    "\n",
    "    csvEachTargetFile = cwd + TraingFolderpath +str(each_i)+ csvEachTargetFileName\n",
    "    check_file_path_exist(csvEachTargetFile)\n",
    "    targetpd.to_csv(csvEachTargetFile)\n",
    "#     try:\n",
    "#         tmp = []\n",
    "#         targetdic = {}\n",
    "#         for i in range(len(doc_df)):\n",
    "#             if(doc_df[i] == each_i):\n",
    "#                 tmp.append(1)\n",
    "#             else:\n",
    "#                 tmp.append(0) \n",
    "#         targetdic[str(each_i)] = tmp\n",
    "#         targetpd = pd.DataFrame(targetdic)\n",
    "        \n",
    "#         csvTargetFile = cwd + TraingFolderpath +str(each_i)+ csvTargetFileName\n",
    "#         check_file_path_exist(csvTargetFileName)\n",
    "#         targetpd.to_csv(csvTargetFile)\n",
    "#     except:\n",
    "#         print(\"Unexpected error:\", sys.exc_info())        \n",
    "       "
   ]
  },
  {
   "cell_type": "code",
   "execution_count": 18,
   "metadata": {
    "collapsed": false
   },
   "outputs": [],
   "source": []
  }
 ],
 "metadata": {
  "kernelspec": {
   "display_name": "Python 3",
   "language": "python",
   "name": "python3"
  },
  "language_info": {
   "codemirror_mode": {
    "name": "ipython",
    "version": 3
   },
   "file_extension": ".py",
   "mimetype": "text/x-python",
   "name": "python",
   "nbconvert_exporter": "python",
   "pygments_lexer": "ipython3",
   "version": "3.6.1"
  }
 },
 "nbformat": 4,
 "nbformat_minor": 0
}
